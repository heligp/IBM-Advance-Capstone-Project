{
 "cells": [
  {
   "cell_type": "markdown",
   "metadata": {},
   "source": [
    "## BUSINESS PROBLEM"
   ]
  },
  {
   "cell_type": "markdown",
   "metadata": {},
   "source": [
    "For this project, an attempt will be made to forecast the prices of the SP500 ETF (symbol \"SPY\"), based on the latest price movements of this index plus the latest prices of the 5 most important stocks that make up this index (Amazon, Google, Facebook, Apple and Microsoft). This project is not intended to be a fully developed investment strategy, but rather to present a first approximation of the use of Machine Learning techniques for time series forecasting."
   ]
  },
  {
   "cell_type": "code",
   "execution_count": 383,
   "metadata": {},
   "outputs": [],
   "source": [
    "# General libraries\n",
    "import os\n",
    "import time\n",
    "import datetime\n",
    "import pandas as pd\n",
    "import math\n",
    "\n",
    "# For data import\n",
    "from alpha_vantage.timeseries import TimeSeries \n",
    "\n",
    "# For the FT\n",
    "from numpy.fft import fft\n",
    "import numpy as np\n",
    "\n",
    "# For ploting\n",
    "\n",
    "import matplotlib.pyplot as plt\n",
    "\n",
    "# For ApacheSpark use\n",
    "from pyspark import SparkContext, SparkConf\n",
    "from pyspark.sql import SQLContext, SparkSession\n",
    "from pyspark.sql.types import StructType, StructField, DoubleType, IntegerType, StringType\n"
   ]
  },
  {
   "cell_type": "markdown",
   "metadata": {},
   "source": [
    "## DATA ACQUISTION"
   ]
  },
  {
   "cell_type": "markdown",
   "metadata": {},
   "source": [
    "The data for this project will be acquired from www.alphavantage.com. In order to use its datasets, is it necessary to get its API KEY, which allows us to get the prices information of most of the US Stocks. Due to this free API KEY only allows us to make 5 calls per minute, we need to make a loop calling for 5 stock prices every 60 seconds. \n",
    "This cell will get the intraday price information for the symbols we need, in 1 minute intervals. With this type of organized information, we won't need to quatisized this Time Series. Here is an Example:"
   ]
  },
  {
   "cell_type": "code",
   "execution_count": 384,
   "metadata": {},
   "outputs": [],
   "source": [
    "keyID= '1J1ZO85W619SQ21V' \n",
    "ts = TimeSeries(keyID) #Object for data extraction\n",
    "price_df,meta=ts.get_intraday(symbol='SPY',interval='1min',outputsize='full')\n"
   ]
  },
  {
   "cell_type": "markdown",
   "metadata": {},
   "source": [
    "We just realize that the price information comes in a OHLCV (open, high, low, close, volume) format, which is a pretty common format for this type of stock data. For the purposes of of this project, we will use just the close column, which represents the price at the end of the minute.\n",
    "This data we also need it in a tabular way, so we will do it in the next cell."
   ]
  },
  {
   "cell_type": "code",
   "execution_count": 386,
   "metadata": {
    "scrolled": true
   },
   "outputs": [],
   "source": [
    "list_stocks = ['FB', 'GOOG','AMZN','MSFT','AAPL']\n",
    "prices_list=pd.DataFrame()\n",
    "for activo in list_stocks:\n",
    "    prices_dict,meta=ts.get_intraday(symbol=activo,interval='5min',outputsize='full')\n",
    "    prices_df=pd.DataFrame(prices_dict)    \n",
    "    prices_df=prices_df.transpose()\n",
    "    prices_df.columns=['open','high','low',activo,'volume']\n",
    "    price_list=prices_df[activo]\n",
    "\n",
    "#     if len(price_list)>len_list:\n",
    "        \n",
    "#     elif len(price_list)<len_list:\n",
    "#     elif len(price_list)==len_list:\n",
    "#         pass\n",
    "#     len_list=len(price_list)\n",
    "    prices_list= pd.concat([prices_list,price_list],axis=1,sort=True)\n",
    "    prices_list=prices_list.dropna()\n",
    "time.sleep(60) #This is because the API KEY let me make only 5 calls per minute.\n",
    "\n",
    "prices_dict,meta=ts.get_intraday(symbol='SPY',interval='5min',outputsize='full')\n",
    "prices_df=pd.DataFrame(prices_dict)    \n",
    "prices_df=prices_df.transpose()\n",
    "prices_df.columns=['open','high','low','SPY','volume']\n",
    "price_spyx=prices_df['SPY']\n",
    "\n",
    "\n",
    "\n",
    "prices_list= pd.concat([prices_list,price_spyx],axis=1,sort=True)\n",
    "prices_list=prices_list.dropna()\n",
    "prices_list=prices_list.astype(float)\n",
    "#prices_list=prices_list.round(decimals=2)\n",
    "    "
   ]
  },
  {
   "cell_type": "code",
   "execution_count": 387,
   "metadata": {},
   "outputs": [
    {
     "data": {
      "text/html": [
       "<div>\n",
       "<style scoped>\n",
       "    .dataframe tbody tr th:only-of-type {\n",
       "        vertical-align: middle;\n",
       "    }\n",
       "\n",
       "    .dataframe tbody tr th {\n",
       "        vertical-align: top;\n",
       "    }\n",
       "\n",
       "    .dataframe thead th {\n",
       "        text-align: right;\n",
       "    }\n",
       "</style>\n",
       "<table border=\"1\" class=\"dataframe\">\n",
       "  <thead>\n",
       "    <tr style=\"text-align: right;\">\n",
       "      <th></th>\n",
       "      <th>FB</th>\n",
       "      <th>GOOG</th>\n",
       "      <th>AMZN</th>\n",
       "      <th>MSFT</th>\n",
       "      <th>AAPL</th>\n",
       "      <th>SPY</th>\n",
       "    </tr>\n",
       "  </thead>\n",
       "  <tbody>\n",
       "    <tr>\n",
       "      <th>2020-04-23 09:35:00</th>\n",
       "      <td>186.6400</td>\n",
       "      <td>1273.8328</td>\n",
       "      <td>2416.8816</td>\n",
       "      <td>174.945</td>\n",
       "      <td>277.75</td>\n",
       "      <td>281.60</td>\n",
       "    </tr>\n",
       "    <tr>\n",
       "      <th>2020-04-23 09:40:00</th>\n",
       "      <td>186.0600</td>\n",
       "      <td>1283.5100</td>\n",
       "      <td>2408.3887</td>\n",
       "      <td>174.425</td>\n",
       "      <td>277.91</td>\n",
       "      <td>282.00</td>\n",
       "    </tr>\n",
       "    <tr>\n",
       "      <th>2020-04-23 09:45:00</th>\n",
       "      <td>185.6900</td>\n",
       "      <td>1283.6600</td>\n",
       "      <td>2408.9900</td>\n",
       "      <td>174.610</td>\n",
       "      <td>278.61</td>\n",
       "      <td>281.94</td>\n",
       "    </tr>\n",
       "    <tr>\n",
       "      <th>2020-04-23 09:50:00</th>\n",
       "      <td>185.7990</td>\n",
       "      <td>1283.7000</td>\n",
       "      <td>2415.2251</td>\n",
       "      <td>174.550</td>\n",
       "      <td>278.27</td>\n",
       "      <td>281.63</td>\n",
       "    </tr>\n",
       "    <tr>\n",
       "      <th>2020-04-23 09:55:00</th>\n",
       "      <td>185.8174</td>\n",
       "      <td>1283.1200</td>\n",
       "      <td>2413.4050</td>\n",
       "      <td>174.140</td>\n",
       "      <td>278.12</td>\n",
       "      <td>281.21</td>\n",
       "    </tr>\n",
       "  </tbody>\n",
       "</table>\n",
       "</div>"
      ],
      "text/plain": [
       "                           FB       GOOG       AMZN     MSFT    AAPL     SPY\n",
       "2020-04-23 09:35:00  186.6400  1273.8328  2416.8816  174.945  277.75  281.60\n",
       "2020-04-23 09:40:00  186.0600  1283.5100  2408.3887  174.425  277.91  282.00\n",
       "2020-04-23 09:45:00  185.6900  1283.6600  2408.9900  174.610  278.61  281.94\n",
       "2020-04-23 09:50:00  185.7990  1283.7000  2415.2251  174.550  278.27  281.63\n",
       "2020-04-23 09:55:00  185.8174  1283.1200  2413.4050  174.140  278.12  281.21"
      ]
     },
     "execution_count": 387,
     "metadata": {},
     "output_type": "execute_result"
    }
   ],
   "source": [
    "prices_list.head()"
   ]
  },
  {
   "cell_type": "markdown",
   "metadata": {},
   "source": [
    "## ETL"
   ]
  },
  {
   "cell_type": "markdown",
   "metadata": {},
   "source": [
    "As the data extracted is already quantisized, I will just compute the returns of the prices. It means to divide the close price from one minute by the close price from the minute before."
   ]
  },
  {
   "cell_type": "markdown",
   "metadata": {},
   "source": [
    "### Returns computation"
   ]
  },
  {
   "cell_type": "code",
   "execution_count": 388,
   "metadata": {},
   "outputs": [],
   "source": [
    "prices_returns=prices_list.pct_change()"
   ]
  },
  {
   "cell_type": "code",
   "execution_count": 389,
   "metadata": {},
   "outputs": [
    {
     "data": {
      "text/html": [
       "<div>\n",
       "<style scoped>\n",
       "    .dataframe tbody tr th:only-of-type {\n",
       "        vertical-align: middle;\n",
       "    }\n",
       "\n",
       "    .dataframe tbody tr th {\n",
       "        vertical-align: top;\n",
       "    }\n",
       "\n",
       "    .dataframe thead th {\n",
       "        text-align: right;\n",
       "    }\n",
       "</style>\n",
       "<table border=\"1\" class=\"dataframe\">\n",
       "  <thead>\n",
       "    <tr style=\"text-align: right;\">\n",
       "      <th></th>\n",
       "      <th>FB</th>\n",
       "      <th>GOOG</th>\n",
       "      <th>AMZN</th>\n",
       "      <th>MSFT</th>\n",
       "      <th>AAPL</th>\n",
       "      <th>SPY</th>\n",
       "    </tr>\n",
       "  </thead>\n",
       "  <tbody>\n",
       "    <tr>\n",
       "      <th>2020-04-23 09:35:00</th>\n",
       "      <td>NaN</td>\n",
       "      <td>NaN</td>\n",
       "      <td>NaN</td>\n",
       "      <td>NaN</td>\n",
       "      <td>NaN</td>\n",
       "      <td>NaN</td>\n",
       "    </tr>\n",
       "    <tr>\n",
       "      <th>2020-04-23 09:40:00</th>\n",
       "      <td>-0.003108</td>\n",
       "      <td>0.007597</td>\n",
       "      <td>-0.003514</td>\n",
       "      <td>-0.002972</td>\n",
       "      <td>0.000576</td>\n",
       "      <td>0.001420</td>\n",
       "    </tr>\n",
       "    <tr>\n",
       "      <th>2020-04-23 09:45:00</th>\n",
       "      <td>-0.001989</td>\n",
       "      <td>0.000117</td>\n",
       "      <td>0.000250</td>\n",
       "      <td>0.001061</td>\n",
       "      <td>0.002519</td>\n",
       "      <td>-0.000213</td>\n",
       "    </tr>\n",
       "    <tr>\n",
       "      <th>2020-04-23 09:50:00</th>\n",
       "      <td>0.000587</td>\n",
       "      <td>0.000031</td>\n",
       "      <td>0.002588</td>\n",
       "      <td>-0.000344</td>\n",
       "      <td>-0.001220</td>\n",
       "      <td>-0.001100</td>\n",
       "    </tr>\n",
       "    <tr>\n",
       "      <th>2020-04-23 09:55:00</th>\n",
       "      <td>0.000099</td>\n",
       "      <td>-0.000452</td>\n",
       "      <td>-0.000754</td>\n",
       "      <td>-0.002349</td>\n",
       "      <td>-0.000539</td>\n",
       "      <td>-0.001491</td>\n",
       "    </tr>\n",
       "  </tbody>\n",
       "</table>\n",
       "</div>"
      ],
      "text/plain": [
       "                           FB      GOOG      AMZN      MSFT      AAPL  \\\n",
       "2020-04-23 09:35:00       NaN       NaN       NaN       NaN       NaN   \n",
       "2020-04-23 09:40:00 -0.003108  0.007597 -0.003514 -0.002972  0.000576   \n",
       "2020-04-23 09:45:00 -0.001989  0.000117  0.000250  0.001061  0.002519   \n",
       "2020-04-23 09:50:00  0.000587  0.000031  0.002588 -0.000344 -0.001220   \n",
       "2020-04-23 09:55:00  0.000099 -0.000452 -0.000754 -0.002349 -0.000539   \n",
       "\n",
       "                          SPY  \n",
       "2020-04-23 09:35:00       NaN  \n",
       "2020-04-23 09:40:00  0.001420  \n",
       "2020-04-23 09:45:00 -0.000213  \n",
       "2020-04-23 09:50:00 -0.001100  \n",
       "2020-04-23 09:55:00 -0.001491  "
      ]
     },
     "execution_count": 389,
     "metadata": {},
     "output_type": "execute_result"
    }
   ],
   "source": [
    "prices_returns.head()"
   ]
  },
  {
   "cell_type": "code",
   "execution_count": 390,
   "metadata": {},
   "outputs": [
    {
     "data": {
      "image/png": "[encoded data removed]",
      "text/plain": [
       "<Figure size 432x288 with 1 Axes>"
      ]
     },
     "metadata": {
      "needs_background": "light"
     },
     "output_type": "display_data"
    }
   ],
   "source": [
    "plt.plot(prices_returns)\n",
    "plt.show()"
   ]
  },
  {
   "cell_type": "markdown",
   "metadata": {},
   "source": [
    "As we can see on the figure above, there is some stationarity on the data, except from some points, so with this we can go on because it will allows to make later statistical analysis"
   ]
  },
  {
   "cell_type": "markdown",
   "metadata": {},
   "source": [
    "Now we are going to discretize the points on the returns, assigning values from 0 for returns equal to 0, 1 for negative returns, and 2 for positive returns"
   ]
  },
  {
   "cell_type": "code",
   "execution_count": 391,
   "metadata": {},
   "outputs": [],
   "source": [
    "for i in prices_returns.columns:\n",
    "    for j in range(len(prices_returns[i])):\n",
    "        if prices_returns[i].iloc[j] >0:\n",
    "            prices_returns[i].iloc[j]=2\n",
    "        elif prices_returns[i].iloc[j]<0:\n",
    "            prices_returns[i].iloc[j]=1\n",
    "        else:\n",
    "            prices_returns[i].iloc[j]=0"
   ]
  },
  {
   "cell_type": "code",
   "execution_count": 392,
   "metadata": {},
   "outputs": [
    {
     "data": {
      "text/html": [
       "<div>\n",
       "<style scoped>\n",
       "    .dataframe tbody tr th:only-of-type {\n",
       "        vertical-align: middle;\n",
       "    }\n",
       "\n",
       "    .dataframe tbody tr th {\n",
       "        vertical-align: top;\n",
       "    }\n",
       "\n",
       "    .dataframe thead th {\n",
       "        text-align: right;\n",
       "    }\n",
       "</style>\n",
       "<table border=\"1\" class=\"dataframe\">\n",
       "  <thead>\n",
       "    <tr style=\"text-align: right;\">\n",
       "      <th></th>\n",
       "      <th>FB</th>\n",
       "      <th>GOOG</th>\n",
       "      <th>AMZN</th>\n",
       "      <th>MSFT</th>\n",
       "      <th>AAPL</th>\n",
       "      <th>SPY</th>\n",
       "    </tr>\n",
       "  </thead>\n",
       "  <tbody>\n",
       "    <tr>\n",
       "      <th>2020-04-23 09:35:00</th>\n",
       "      <td>0.0</td>\n",
       "      <td>0.0</td>\n",
       "      <td>0.0</td>\n",
       "      <td>0.0</td>\n",
       "      <td>0.0</td>\n",
       "      <td>0.0</td>\n",
       "    </tr>\n",
       "    <tr>\n",
       "      <th>2020-04-23 09:40:00</th>\n",
       "      <td>1.0</td>\n",
       "      <td>2.0</td>\n",
       "      <td>1.0</td>\n",
       "      <td>1.0</td>\n",
       "      <td>2.0</td>\n",
       "      <td>2.0</td>\n",
       "    </tr>\n",
       "    <tr>\n",
       "      <th>2020-04-23 09:45:00</th>\n",
       "      <td>1.0</td>\n",
       "      <td>2.0</td>\n",
       "      <td>2.0</td>\n",
       "      <td>2.0</td>\n",
       "      <td>2.0</td>\n",
       "      <td>1.0</td>\n",
       "    </tr>\n",
       "    <tr>\n",
       "      <th>2020-04-23 09:50:00</th>\n",
       "      <td>2.0</td>\n",
       "      <td>2.0</td>\n",
       "      <td>2.0</td>\n",
       "      <td>1.0</td>\n",
       "      <td>1.0</td>\n",
       "      <td>1.0</td>\n",
       "    </tr>\n",
       "    <tr>\n",
       "      <th>2020-04-23 09:55:00</th>\n",
       "      <td>2.0</td>\n",
       "      <td>1.0</td>\n",
       "      <td>1.0</td>\n",
       "      <td>1.0</td>\n",
       "      <td>1.0</td>\n",
       "      <td>1.0</td>\n",
       "    </tr>\n",
       "  </tbody>\n",
       "</table>\n",
       "</div>"
      ],
      "text/plain": [
       "                      FB  GOOG  AMZN  MSFT  AAPL  SPY\n",
       "2020-04-23 09:35:00  0.0   0.0   0.0   0.0   0.0  0.0\n",
       "2020-04-23 09:40:00  1.0   2.0   1.0   1.0   2.0  2.0\n",
       "2020-04-23 09:45:00  1.0   2.0   2.0   2.0   2.0  1.0\n",
       "2020-04-23 09:50:00  2.0   2.0   2.0   1.0   1.0  1.0\n",
       "2020-04-23 09:55:00  2.0   1.0   1.0   1.0   1.0  1.0"
      ]
     },
     "execution_count": 392,
     "metadata": {},
     "output_type": "execute_result"
    }
   ],
   "source": [
    "prices_returns.head()"
   ]
  },
  {
   "cell_type": "markdown",
   "metadata": {},
   "source": [
    "Then, as we will try to predict the returns of the 'SPY', it will be the 'label' input for later training. And as we want to know this returns for 1 timestep in the future, we are going to roll 1 timestep this feature"
   ]
  },
  {
   "cell_type": "code",
   "execution_count": 393,
   "metadata": {},
   "outputs": [],
   "source": [
    "price_spy=price_spyx.iloc[2:].astype('float')"
   ]
  },
  {
   "cell_type": "code",
   "execution_count": 394,
   "metadata": {},
   "outputs": [],
   "source": [
    "price_spy=price_spy.pct_change()"
   ]
  },
  {
   "cell_type": "markdown",
   "metadata": {},
   "source": [
    "Now we are going to discretize this label values, but for returns over the 0.1% or below -0.1%\n",
    "This is because we this model will be design for capital above 10k dollars , which 0.1% is equal to 10 dollars more than any trade-commission on any broker"
   ]
  },
  {
   "cell_type": "code",
   "execution_count": 395,
   "metadata": {},
   "outputs": [],
   "source": [
    "for j in range(len(price_spy)):\n",
    "    if price_spy.iloc[j] >=0.001:\n",
    "        price_spy.iloc[j]=2\n",
    "    elif price_spy.iloc[j]<=-0.001:\n",
    "        price_spy.iloc[j]=1\n",
    "    else:\n",
    "        price_spy.iloc[j]=0"
   ]
  },
  {
   "cell_type": "code",
   "execution_count": 396,
   "metadata": {},
   "outputs": [
    {
     "data": {
      "text/plain": [
       "2020-05-13 15:50:00    0.0\n",
       "2020-05-13 15:45:00    1.0\n",
       "2020-05-13 15:40:00    0.0\n",
       "2020-05-13 15:35:00    0.0\n",
       "2020-05-13 15:30:00    1.0\n",
       "Name: label, dtype: float64"
      ]
     },
     "execution_count": 396,
     "metadata": {},
     "output_type": "execute_result"
    }
   ],
   "source": [
    "price_spy.rename('label',inplace=True).head()"
   ]
  },
  {
   "cell_type": "code",
   "execution_count": 397,
   "metadata": {},
   "outputs": [],
   "source": [
    "prices_returns_slice=prices_returns.iloc[1:-1]"
   ]
  },
  {
   "cell_type": "code",
   "execution_count": 398,
   "metadata": {},
   "outputs": [],
   "source": [
    "prices_returns_final=pd.concat([prices_returns_slice,price_spy],axis=1,join='inner')"
   ]
  },
  {
   "cell_type": "code",
   "execution_count": 399,
   "metadata": {},
   "outputs": [
    {
     "data": {
      "text/html": [
       "<div>\n",
       "<style scoped>\n",
       "    .dataframe tbody tr th:only-of-type {\n",
       "        vertical-align: middle;\n",
       "    }\n",
       "\n",
       "    .dataframe tbody tr th {\n",
       "        vertical-align: top;\n",
       "    }\n",
       "\n",
       "    .dataframe thead th {\n",
       "        text-align: right;\n",
       "    }\n",
       "</style>\n",
       "<table border=\"1\" class=\"dataframe\">\n",
       "  <thead>\n",
       "    <tr style=\"text-align: right;\">\n",
       "      <th></th>\n",
       "      <th>FB</th>\n",
       "      <th>GOOG</th>\n",
       "      <th>AMZN</th>\n",
       "      <th>MSFT</th>\n",
       "      <th>AAPL</th>\n",
       "      <th>SPY</th>\n",
       "      <th>label</th>\n",
       "    </tr>\n",
       "  </thead>\n",
       "  <tbody>\n",
       "    <tr>\n",
       "      <th>2020-04-23 09:40:00</th>\n",
       "      <td>1.0</td>\n",
       "      <td>2.0</td>\n",
       "      <td>1.0</td>\n",
       "      <td>1.0</td>\n",
       "      <td>2.0</td>\n",
       "      <td>2.0</td>\n",
       "      <td>0.0</td>\n",
       "    </tr>\n",
       "    <tr>\n",
       "      <th>2020-04-23 09:45:00</th>\n",
       "      <td>1.0</td>\n",
       "      <td>2.0</td>\n",
       "      <td>2.0</td>\n",
       "      <td>2.0</td>\n",
       "      <td>2.0</td>\n",
       "      <td>1.0</td>\n",
       "      <td>2.0</td>\n",
       "    </tr>\n",
       "    <tr>\n",
       "      <th>2020-04-23 09:50:00</th>\n",
       "      <td>2.0</td>\n",
       "      <td>2.0</td>\n",
       "      <td>2.0</td>\n",
       "      <td>1.0</td>\n",
       "      <td>1.0</td>\n",
       "      <td>1.0</td>\n",
       "      <td>2.0</td>\n",
       "    </tr>\n",
       "    <tr>\n",
       "      <th>2020-04-23 09:55:00</th>\n",
       "      <td>2.0</td>\n",
       "      <td>1.0</td>\n",
       "      <td>1.0</td>\n",
       "      <td>1.0</td>\n",
       "      <td>1.0</td>\n",
       "      <td>1.0</td>\n",
       "      <td>1.0</td>\n",
       "    </tr>\n",
       "    <tr>\n",
       "      <th>2020-04-23 10:00:00</th>\n",
       "      <td>1.0</td>\n",
       "      <td>1.0</td>\n",
       "      <td>2.0</td>\n",
       "      <td>2.0</td>\n",
       "      <td>2.0</td>\n",
       "      <td>2.0</td>\n",
       "      <td>0.0</td>\n",
       "    </tr>\n",
       "  </tbody>\n",
       "</table>\n",
       "</div>"
      ],
      "text/plain": [
       "                      FB  GOOG  AMZN  MSFT  AAPL  SPY  label\n",
       "2020-04-23 09:40:00  1.0   2.0   1.0   1.0   2.0  2.0    0.0\n",
       "2020-04-23 09:45:00  1.0   2.0   2.0   2.0   2.0  1.0    2.0\n",
       "2020-04-23 09:50:00  2.0   2.0   2.0   1.0   1.0  1.0    2.0\n",
       "2020-04-23 09:55:00  2.0   1.0   1.0   1.0   1.0  1.0    1.0\n",
       "2020-04-23 10:00:00  1.0   1.0   2.0   2.0   2.0  2.0    0.0"
      ]
     },
     "execution_count": 399,
     "metadata": {},
     "output_type": "execute_result"
    }
   ],
   "source": [
    "prices_returns_final.head()"
   ]
  },
  {
   "cell_type": "markdown",
   "metadata": {},
   "source": [
    "So far, we made all the operations in a Pandas DataFrame, but now for ML purposes, we are going to made the next operations in a Apache Spark Dataset"
   ]
  },
  {
   "cell_type": "code",
   "execution_count": 400,
   "metadata": {},
   "outputs": [],
   "source": [
    "sc = SparkContext.getOrCreate(SparkConf().setMaster(\"local[*]\"))\n",
    "spark = SparkSession.builder.getOrCreate()"
   ]
  },
  {
   "cell_type": "code",
   "execution_count": 401,
   "metadata": {},
   "outputs": [],
   "source": [
    "prices_df=spark.createDataFrame(prices_returns_final)"
   ]
  },
  {
   "cell_type": "code",
   "execution_count": 402,
   "metadata": {},
   "outputs": [
    {
     "name": "stdout",
     "output_type": "stream",
     "text": [
      "+---+----+----+----+----+---+-----+\n",
      "| FB|GOOG|AMZN|MSFT|AAPL|SPY|label|\n",
      "+---+----+----+----+----+---+-----+\n",
      "|1.0| 2.0| 1.0| 1.0| 2.0|2.0|  0.0|\n",
      "|1.0| 2.0| 2.0| 2.0| 2.0|1.0|  2.0|\n",
      "|2.0| 2.0| 2.0| 1.0| 1.0|1.0|  2.0|\n",
      "|2.0| 1.0| 1.0| 1.0| 1.0|1.0|  1.0|\n",
      "|1.0| 1.0| 2.0| 2.0| 2.0|2.0|  0.0|\n",
      "+---+----+----+----+----+---+-----+\n",
      "only showing top 5 rows\n",
      "\n"
     ]
    }
   ],
   "source": [
    "prices_df.show(5)"
   ]
  },
  {
   "cell_type": "markdown",
   "metadata": {},
   "source": [
    "## MODEL DEFINITION, TRAINING, DEPLOYMENT AND EVALUATION"
   ]
  },
  {
   "cell_type": "markdown",
   "metadata": {},
   "source": [
    "We are going to use the RandomForestClassifier for this project, computing vectors from our \"x\" features and making a final pipeline for the processes"
   ]
  },
  {
   "cell_type": "code",
   "execution_count": 403,
   "metadata": {},
   "outputs": [],
   "source": [
    "from pyspark.ml.linalg import Vector\n",
    "from pyspark.ml.feature import VectorAssembler\n",
    "from pyspark.ml.feature import OneHotEncoder\n",
    "from pyspark.ml import Pipeline\n",
    "from pyspark.ml.classification import RandomForestClassifier\n",
    "input_columns=prices_df.schema.names[:-1]\n",
    "result_col=prices_df.schema.names[-1]\n",
    "\n",
    "df_train,df_test=prices_df.randomSplit([0.8,0.2])\n",
    "#encoder=OneHotEncoder(inputCol=\"label\",outputCol=\"labelVec\")\n",
    "vectorAssembler = VectorAssembler(inputCols=input_columns,outputCol=\"features\")\n",
    "rfc=RandomForestClassifier(numTrees=100)\n",
    "pipeline=Pipeline(stages=[vectorAssembler,rfc])\n",
    "model=pipeline.fit(df_train)\n"
   ]
  },
  {
   "cell_type": "code",
   "execution_count": 404,
   "metadata": {},
   "outputs": [],
   "source": [
    "prediction = model.transform(df_test)"
   ]
  },
  {
   "cell_type": "code",
   "execution_count": 405,
   "metadata": {},
   "outputs": [
    {
     "name": "stdout",
     "output_type": "stream",
     "text": [
      "+---+----+----+----+----+---+-----+--------------------+--------------------+--------------------+----------+\n",
      "| FB|GOOG|AMZN|MSFT|AAPL|SPY|label|            features|       rawPrediction|         probability|prediction|\n",
      "+---+----+----+----+----+---+-----+--------------------+--------------------+--------------------+----------+\n",
      "|1.0| 1.0| 1.0| 0.0| 1.0|1.0|  1.0|[1.0,1.0,1.0,0.0,...|[40.3022173152629...|[0.40302217315262...|       0.0|\n",
      "|1.0| 1.0| 1.0| 1.0| 1.0|1.0|  0.0|[1.0,1.0,1.0,1.0,...|[62.0675840212123...|[0.62067584021212...|       0.0|\n",
      "|1.0| 1.0| 1.0| 1.0| 1.0|1.0|  0.0|[1.0,1.0,1.0,1.0,...|[62.0675840212123...|[0.62067584021212...|       0.0|\n",
      "|1.0| 1.0| 1.0| 1.0| 1.0|1.0|  0.0|[1.0,1.0,1.0,1.0,...|[62.0675840212123...|[0.62067584021212...|       0.0|\n",
      "|1.0| 1.0| 1.0| 1.0| 1.0|1.0|  0.0|[1.0,1.0,1.0,1.0,...|[62.0675840212123...|[0.62067584021212...|       0.0|\n",
      "|1.0| 1.0| 1.0| 1.0| 1.0|1.0|  0.0|[1.0,1.0,1.0,1.0,...|[62.0675840212123...|[0.62067584021212...|       0.0|\n",
      "|1.0| 1.0| 1.0| 1.0| 1.0|1.0|  1.0|[1.0,1.0,1.0,1.0,...|[62.0675840212123...|[0.62067584021212...|       0.0|\n",
      "|1.0| 1.0| 1.0| 1.0| 1.0|1.0|  1.0|[1.0,1.0,1.0,1.0,...|[62.0675840212123...|[0.62067584021212...|       0.0|\n",
      "|1.0| 1.0| 1.0| 1.0| 1.0|1.0|  1.0|[1.0,1.0,1.0,1.0,...|[62.0675840212123...|[0.62067584021212...|       0.0|\n",
      "|1.0| 1.0| 1.0| 1.0| 1.0|1.0|  2.0|[1.0,1.0,1.0,1.0,...|[62.0675840212123...|[0.62067584021212...|       0.0|\n",
      "|1.0| 1.0| 1.0| 1.0| 1.0|1.0|  2.0|[1.0,1.0,1.0,1.0,...|[62.0675840212123...|[0.62067584021212...|       0.0|\n",
      "|1.0| 1.0| 1.0| 2.0| 1.0|1.0|  0.0|[1.0,1.0,1.0,2.0,...|[52.4637560873806...|[0.52463756087380...|       0.0|\n",
      "|1.0| 1.0| 1.0| 2.0| 1.0|1.0|  0.0|[1.0,1.0,1.0,2.0,...|[52.4637560873806...|[0.52463756087380...|       0.0|\n",
      "|1.0| 1.0| 1.0| 2.0| 1.0|1.0|  0.0|[1.0,1.0,1.0,2.0,...|[52.4637560873806...|[0.52463756087380...|       0.0|\n",
      "|1.0| 1.0| 1.0| 2.0| 2.0|2.0|  0.0|[1.0,1.0,1.0,2.0,...|[58.9574967607295...|[0.58957496760729...|       0.0|\n",
      "|1.0| 1.0| 2.0| 1.0| 1.0|1.0|  1.0|[1.0,1.0,2.0,1.0,...|[55.1269400105310...|[0.55126940010531...|       0.0|\n",
      "|1.0| 1.0| 2.0| 1.0| 1.0|1.0|  1.0|[1.0,1.0,2.0,1.0,...|[55.1269400105310...|[0.55126940010531...|       0.0|\n",
      "|1.0| 1.0| 2.0| 2.0| 1.0|2.0|  2.0|[1.0,1.0,2.0,2.0,...|[57.0456600399803...|[0.57045660039980...|       0.0|\n",
      "|1.0| 1.0| 2.0| 2.0| 2.0|2.0|  0.0|[1.0,1.0,2.0,2.0,...|[68.8948455104030...|[0.68894845510403...|       0.0|\n",
      "|1.0| 1.0| 2.0| 2.0| 2.0|2.0|  2.0|[1.0,1.0,2.0,2.0,...|[68.8948455104030...|[0.68894845510403...|       0.0|\n",
      "+---+----+----+----+----+---+-----+--------------------+--------------------+--------------------+----------+\n",
      "only showing top 20 rows\n",
      "\n"
     ]
    }
   ],
   "source": [
    "prediction.show()"
   ]
  },
  {
   "cell_type": "code",
   "execution_count": 406,
   "metadata": {},
   "outputs": [
    {
     "data": {
      "text/plain": [
       "0.642570281124498"
      ]
     },
     "execution_count": 406,
     "metadata": {},
     "output_type": "execute_result"
    }
   ],
   "source": [
    "from pyspark.ml.evaluation import MulticlassClassificationEvaluator\n",
    "binEval = MulticlassClassificationEvaluator().setMetricName(\"accuracy\") .setPredictionCol(\"prediction\").setLabelCol(\"label\")\n",
    "    \n",
    "binEval.evaluate(prediction) "
   ]
  },
  {
   "cell_type": "markdown",
   "metadata": {},
   "source": [
    "This should be definitely improved! But for now we are going to move on"
   ]
  },
  {
   "cell_type": "markdown",
   "metadata": {},
   "source": [
    "Now we will also compute this algorithm using scikit-learn"
   ]
  },
  {
   "cell_type": "code",
   "execution_count": 407,
   "metadata": {},
   "outputs": [],
   "source": [
    "x=prices_returns_final[prices_returns_final.columns[:-1]]\n",
    "y=prices_returns_final[prices_returns_final.columns[-1]]"
   ]
  },
  {
   "cell_type": "code",
   "execution_count": 408,
   "metadata": {},
   "outputs": [],
   "source": [
    "from sklearn.model_selection import train_test_split\n",
    "\n",
    "x_train,x_test,y_train,y_test=train_test_split(x,y)"
   ]
  },
  {
   "cell_type": "code",
   "execution_count": 409,
   "metadata": {},
   "outputs": [
    {
     "data": {
      "text/plain": [
       "875"
      ]
     },
     "execution_count": 409,
     "metadata": {},
     "output_type": "execute_result"
    }
   ],
   "source": [
    "len(x_train\n",
    "   )"
   ]
  },
  {
   "cell_type": "code",
   "execution_count": 410,
   "metadata": {},
   "outputs": [],
   "source": [
    "from sklearn.ensemble import RandomForestClassifier\n",
    "\n",
    "rfc=RandomForestClassifier()\n",
    "skmodel=rfc.fit(x_train,y_train)\n"
   ]
  },
  {
   "cell_type": "code",
   "execution_count": 411,
   "metadata": {},
   "outputs": [],
   "source": [
    "prediction=skmodel.predict(x_test)"
   ]
  },
  {
   "cell_type": "code",
   "execution_count": 412,
   "metadata": {},
   "outputs": [
    {
     "data": {
      "text/plain": [
       "(array([0., 1., 2.]), array([281,   2,   9], dtype=int64))"
      ]
     },
     "execution_count": 412,
     "metadata": {},
     "output_type": "execute_result"
    }
   ],
   "source": [
    "np.unique(prediction, return_counts=True)"
   ]
  },
  {
   "cell_type": "code",
   "execution_count": 413,
   "metadata": {},
   "outputs": [
    {
     "data": {
      "text/plain": [
       "0.6267123287671232"
      ]
     },
     "execution_count": 413,
     "metadata": {},
     "output_type": "execute_result"
    }
   ],
   "source": [
    "from sklearn.metrics import accuracy_score\n",
    "accuracy_score(y_test,prediction)"
   ]
  },
  {
   "cell_type": "markdown",
   "metadata": {},
   "source": [
    "Almost the same accuracy"
   ]
  },
  {
   "cell_type": "markdown",
   "metadata": {},
   "source": [
    "Finally, we are going to make a Neural Network in order to compare both accuracies"
   ]
  },
  {
   "cell_type": "code",
   "execution_count": 414,
   "metadata": {
    "scrolled": true
   },
   "outputs": [],
   "source": [
    "from keras.preprocessing import sequence"
   ]
  },
  {
   "cell_type": "code",
   "execution_count": 415,
   "metadata": {},
   "outputs": [],
   "source": [
    "from keras.layers import Dense\n",
    "from keras.layers import Input,LSTM,Embedding,SpatialDropout1D\n",
    "from keras.models import Model\n",
    "import h5py"
   ]
  },
  {
   "cell_type": "code",
   "execution_count": 416,
   "metadata": {},
   "outputs": [],
   "source": [
    "from keras.metrics import CategoricalAccuracy\n",
    "from keras import metrics\n",
    "from keras.models import Sequential"
   ]
  },
  {
   "cell_type": "code",
   "execution_count": 417,
   "metadata": {},
   "outputs": [],
   "source": [
    "batch_size=32\n",
    "timesteps=10\n",
    "epochs=120"
   ]
  },
  {
   "cell_type": "code",
   "execution_count": 418,
   "metadata": {},
   "outputs": [
    {
     "name": "stdout",
     "output_type": "stream",
     "text": [
      "Model: \"model_24\"\n",
      "_________________________________________________________________\n",
      "Layer (type)                 Output Shape              Param #   \n",
      "=================================================================\n",
      "input_24 (InputLayer)        (32, 10, 3)               0         \n",
      "_________________________________________________________________\n",
      "lstm_49 (LSTM)               (32, 10, 8)               384       \n",
      "_________________________________________________________________\n",
      "lstm_50 (LSTM)               (32, 10, 8)               544       \n",
      "_________________________________________________________________\n",
      "dense_26 (Dense)             (32, 10, 1)               9         \n",
      "=================================================================\n",
      "Total params: 937\n",
      "Trainable params: 937\n",
      "Non-trainable params: 0\n",
      "_________________________________________________________________\n"
     ]
    }
   ],
   "source": [
    "input_1_mae=Input(batch_shape=(batch_size,timesteps,len(prices_returns_final2.columns)-1))\n",
    "lstm_1_mae=LSTM(8,stateful=True,return_sequences=True)(input_1_mae)\n",
    "lstm_2_mae=LSTM(8,stateful=True,return_sequences=True)(lstm_1_mae)\n",
    "\n",
    "output_1_mae=Dense(units=1)(lstm_2_mae)\n",
    "\n",
    "classifier_mae=Model(inputs=input_1_mae,outputs=output_1_mae)\n",
    "\n",
    "classifier_mae.compile(optimizer='adam',loss='mae')\n",
    "classifier_mae.summary()"
   ]
  },
  {
   "cell_type": "code",
   "execution_count": 419,
   "metadata": {},
   "outputs": [],
   "source": [
    "def get_train_length(dataset,batch_size,test_percent):\n",
    "    lenght=len(dataset)\n",
    "    lenght*= 1- test_percent\n",
    "    train_length_values=[]\n",
    "    for x in range(int(lenght)-100,int(lenght)):\n",
    "        modulo=x%batch_size\n",
    "        if (modulo==0):\n",
    "            train_length_values.append(x)\n",
    "            print(x)\n",
    "    return (max(train_length_values))\n"
   ]
  },
  {
   "cell_type": "code",
   "execution_count": 420,
   "metadata": {},
   "outputs": [
    {
     "name": "stdout",
     "output_type": "stream",
     "text": [
      "864\n",
      "896\n",
      "928\n",
      "928\n"
     ]
    }
   ],
   "source": [
    "length=get_train_length(prices_returns_final,batch_size,0.2)\n",
    "print(length)"
   ]
  },
  {
   "cell_type": "code",
   "execution_count": 421,
   "metadata": {},
   "outputs": [
    {
     "data": {
      "text/plain": [
       "(928, 7)"
      ]
     },
     "execution_count": 421,
     "metadata": {},
     "output_type": "execute_result"
    }
   ],
   "source": [
    "df_data_1_train=prices_returns_final[0:length]\n",
    "training_set=df_data_1_train.iloc[:].values\n",
    "training_set.shape"
   ]
  },
  {
   "cell_type": "code",
   "execution_count": 422,
   "metadata": {},
   "outputs": [
    {
     "data": {
      "text/plain": [
       "(928, 928)"
      ]
     },
     "execution_count": 422,
     "metadata": {},
     "output_type": "execute_result"
    }
   ],
   "source": [
    "x_train=[]\n",
    "y_train=[]\n",
    "\n",
    "for i in range(length):\n",
    "    x_train.append(training_set[i,:len(prices_returns_final.columns)-1])\n",
    "    y_train.append(training_set[i,-1])\n",
    "len(x_train),len(y_train)"
   ]
  },
  {
   "cell_type": "code",
   "execution_count": 423,
   "metadata": {},
   "outputs": [
    {
     "data": {
      "text/plain": [
       "((928, 1, 6), (928, 1, 1))"
      ]
     },
     "execution_count": 423,
     "metadata": {},
     "output_type": "execute_result"
    }
   ],
   "source": [
    "x_train,y_train=np.array(x_train),np.array(y_train)\n",
    "x_train=np.reshape(x_train,(x_train.shape[0],1,len(prices_returns_final.columns)-1))\n",
    "y_train=np.reshape(y_train,(y_train.shape[0],1,1))\n",
    "x_train.shape,y_train.shape"
   ]
  },
  {
   "cell_type": "code",
   "execution_count": 424,
   "metadata": {},
   "outputs": [],
   "source": [
    "lag=len(prices_returns_final)-length"
   ]
  },
  {
   "cell_type": "code",
   "execution_count": 425,
   "metadata": {},
   "outputs": [],
   "source": [
    "lag=int(lag/64)*64"
   ]
  },
  {
   "cell_type": "code",
   "execution_count": 426,
   "metadata": {},
   "outputs": [],
   "source": [
    "lag=256"
   ]
  },
  {
   "cell_type": "code",
   "execution_count": 427,
   "metadata": {},
   "outputs": [
    {
     "data": {
      "text/plain": [
       "(256, 7)"
      ]
     },
     "execution_count": 427,
     "metadata": {},
     "output_type": "execute_result"
    }
   ],
   "source": [
    "df_data_1_test=prices_returns_final[len(prices_returns_final)-lag:]\n",
    "testing_set=df_data_1_test.iloc[:].values\n",
    "testing_set.shape"
   ]
  },
  {
   "cell_type": "code",
   "execution_count": 428,
   "metadata": {},
   "outputs": [],
   "source": [
    "testing_value=testing_set[:,3]"
   ]
  },
  {
   "cell_type": "code",
   "execution_count": 429,
   "metadata": {},
   "outputs": [
    {
     "data": {
      "text/plain": [
       "(256, 256)"
      ]
     },
     "execution_count": 429,
     "metadata": {},
     "output_type": "execute_result"
    }
   ],
   "source": [
    "x_test=[]\n",
    "y_test=[]\n",
    "\n",
    "for i in range(lag):\n",
    "    x_test.append(testing_set[i,:len(prices_returns_final.columns)-1])\n",
    "    y_test.append(testing_set[i,-1])\n",
    "len(x_test),len(y_test)"
   ]
  },
  {
   "cell_type": "code",
   "execution_count": 430,
   "metadata": {},
   "outputs": [
    {
     "data": {
      "text/plain": [
       "((256, 1, 6), (256, 1, 1))"
      ]
     },
     "execution_count": 430,
     "metadata": {},
     "output_type": "execute_result"
    }
   ],
   "source": [
    "x_test,y_test=np.array(x_test),np.array(y_test)\n",
    "x_test=np.reshape(x_test,(x_test.shape[0],1,len(prices_returns_final.columns)-1))\n",
    "y_test=np.reshape(y_test,(y_test.shape[0],1,1))\n",
    "x_test.shape,y_test.shape"
   ]
  },
  {
   "cell_type": "code",
   "execution_count": 431,
   "metadata": {},
   "outputs": [],
   "source": [
    "epochs=120"
   ]
  },
  {
   "cell_type": "code",
   "execution_count": 432,
   "metadata": {},
   "outputs": [
    {
     "name": "stdout",
     "output_type": "stream",
     "text": [
      "Model: \"model_25\"\n",
      "_________________________________________________________________\n",
      "Layer (type)                 Output Shape              Param #   \n",
      "=================================================================\n",
      "input_25 (InputLayer)        (32, 1, 6)                0         \n",
      "_________________________________________________________________\n",
      "lstm_51 (LSTM)               (32, 1, 512)              1062912   \n",
      "_________________________________________________________________\n",
      "lstm_52 (LSTM)               (32, 1, 512)              2099200   \n",
      "_________________________________________________________________\n",
      "dense_27 (Dense)             (32, 1, 1)                513       \n",
      "=================================================================\n",
      "Total params: 3,162,625\n",
      "Trainable params: 3,162,625\n",
      "Non-trainable params: 0\n",
      "_________________________________________________________________\n"
     ]
    }
   ],
   "source": [
    "input_1_mae=Input(batch_shape=(batch_size,1,len(prices_returns_final.columns)-1))\n",
    "lstm_1_mae=LSTM(512,stateful=True,return_sequences=True)(input_1_mae)\n",
    "lstm_2_mae=LSTM(512,stateful=True,return_sequences=True)(lstm_1_mae)\n",
    "\n",
    "output_1_mae=Dense(units=1)(lstm_2_mae)\n",
    "\n",
    "classifier_mae=Model(inputs=input_1_mae,outputs=output_1_mae)\n",
    "\n",
    "classifier_mae.compile(optimizer='adam',loss='mae',metrics=['acc'])\n",
    "classifier_mae.summary()"
   ]
  },
  {
   "cell_type": "code",
   "execution_count": 433,
   "metadata": {},
   "outputs": [],
   "source": [
    "def lstmModel():\n",
    "    input_1_mae=Input(batch_shape=(batch_size,1,len(prices_returns_final.columns)-1))\n",
    "    lstm_1_mae=LSTM(128,stateful=True,return_sequences=True)(input_1_mae)\n",
    "    lstm_2_mae=LSTM(128,stateful=True,return_sequences=True)(lstm_1_mae)\n",
    "\n",
    "    output_1_mae=Dense(units=1)(lstm_2_mae)\n",
    "\n",
    "    classifier_mae=Model(inputs=input_1_mae,outputs=output_1_mae)\n",
    "\n",
    "    classifier_mae.compile(optimizer='adam',loss='mae',metrics=['acc'])\n",
    "    return classifier_mae"
   ]
  },
  {
   "cell_type": "code",
   "execution_count": 434,
   "metadata": {},
   "outputs": [],
   "source": [
    "model=lstmModel()"
   ]
  },
  {
   "cell_type": "code",
   "execution_count": 435,
   "metadata": {},
   "outputs": [
    {
     "name": "stdout",
     "output_type": "stream",
     "text": [
      "Epoch 1/120\n",
      "928/928 [==============================] - 7s 7ms/step - loss: 0.6355 - acc: 0.5086\n",
      "Epoch 2/120\n",
      "928/928 [==============================] - 0s 277us/step - loss: 0.5765 - acc: 0.6509\n",
      "Epoch 3/120\n",
      "928/928 [==============================] - 0s 218us/step - loss: 0.5505 - acc: 0.6509\n",
      "Epoch 4/120\n",
      "928/928 [==============================] - 0s 268us/step - loss: 0.5249 - acc: 0.6509\n",
      "Epoch 5/120\n",
      "928/928 [==============================] - 0s 221us/step - loss: 0.5203 - acc: 0.6509\n",
      "Epoch 6/120\n",
      "928/928 [==============================] - 0s 209us/step - loss: 0.5203 - acc: 0.6509\n",
      "Epoch 7/120\n",
      "928/928 [==============================] - 0s 218us/step - loss: 0.5191 - acc: 0.6509\n",
      "Epoch 8/120\n",
      "928/928 [==============================] - 0s 286us/step - loss: 0.5171 - acc: 0.6509\n",
      "Epoch 9/120\n",
      "928/928 [==============================] - 0s 204us/step - loss: 0.5172 - acc: 0.6509\n",
      "Epoch 10/120\n",
      "928/928 [==============================] - 0s 218us/step - loss: 0.5194 - acc: 0.6509\n",
      "Epoch 11/120\n",
      "928/928 [==============================] - 0s 213us/step - loss: 0.5178 - acc: 0.6509\n",
      "Epoch 12/120\n",
      "928/928 [==============================] - 0s 346us/step - loss: 0.5166 - acc: 0.6509\n",
      "Epoch 13/120\n",
      "928/928 [==============================] - 0s 218us/step - loss: 0.5164 - acc: 0.6509\n",
      "Epoch 14/120\n",
      "928/928 [==============================] - 0s 218us/step - loss: 0.5162 - acc: 0.6509\n",
      "Epoch 15/120\n",
      "928/928 [==============================] - 0s 215us/step - loss: 0.5161 - acc: 0.6509\n",
      "Epoch 16/120\n",
      "928/928 [==============================] - 0s 214us/step - loss: 0.5177 - acc: 0.6509\n",
      "Epoch 17/120\n",
      "928/928 [==============================] - 0s 217us/step - loss: 0.5171 - acc: 0.6509\n",
      "Epoch 18/120\n",
      "928/928 [==============================] - 0s 219us/step - loss: 0.5186 - acc: 0.6509\n",
      "Epoch 19/120\n",
      "928/928 [==============================] - 0s 210us/step - loss: 0.5188 - acc: 0.6509\n",
      "Epoch 20/120\n",
      "928/928 [==============================] - 0s 218us/step - loss: 0.5169 - acc: 0.6509\n",
      "Epoch 21/120\n",
      "928/928 [==============================] - 0s 211us/step - loss: 0.5164 - acc: 0.6509\n",
      "Epoch 22/120\n",
      "928/928 [==============================] - 0s 222us/step - loss: 0.5158 - acc: 0.6509\n",
      "Epoch 23/120\n",
      "928/928 [==============================] - 0s 227us/step - loss: 0.5158 - acc: 0.6509\n",
      "Epoch 24/120\n",
      "928/928 [==============================] - 0s 224us/step - loss: 0.5156 - acc: 0.6509\n",
      "Epoch 25/120\n",
      "928/928 [==============================] - 0s 231us/step - loss: 0.5157 - acc: 0.6509\n",
      "Epoch 26/120\n",
      "928/928 [==============================] - 0s 214us/step - loss: 0.5155 - acc: 0.6509\n",
      "Epoch 27/120\n",
      "928/928 [==============================] - 0s 225us/step - loss: 0.5157 - acc: 0.6509\n",
      "Epoch 28/120\n",
      "928/928 [==============================] - 0s 219us/step - loss: 0.5155 - acc: 0.6509\n",
      "Epoch 29/120\n",
      "928/928 [==============================] - 0s 209us/step - loss: 0.5154 - acc: 0.6509\n",
      "Epoch 30/120\n",
      "928/928 [==============================] - 0s 234us/step - loss: 0.5156 - acc: 0.6509\n",
      "Epoch 31/120\n",
      "928/928 [==============================] - 0s 230us/step - loss: 0.5156 - acc: 0.6509\n",
      "Epoch 32/120\n",
      "928/928 [==============================] - 0s 225us/step - loss: 0.5157 - acc: 0.6509\n",
      "Epoch 33/120\n",
      "928/928 [==============================] - 0s 214us/step - loss: 0.5155 - acc: 0.6509\n",
      "Epoch 34/120\n",
      "928/928 [==============================] - 0s 220us/step - loss: 0.5156 - acc: 0.6509\n",
      "Epoch 35/120\n",
      "928/928 [==============================] - 0s 219us/step - loss: 0.5155 - acc: 0.6509\n",
      "Epoch 36/120\n",
      "928/928 [==============================] - 0s 231us/step - loss: 0.5157 - acc: 0.6509\n",
      "Epoch 37/120\n",
      "928/928 [==============================] - 0s 227us/step - loss: 0.5160 - acc: 0.6509\n",
      "Epoch 38/120\n",
      "928/928 [==============================] - 0s 218us/step - loss: 0.5160 - acc: 0.6509\n",
      "Epoch 39/120\n",
      "928/928 [==============================] - 0s 201us/step - loss: 0.5158 - acc: 0.6509\n",
      "Epoch 40/120\n",
      "928/928 [==============================] - 0s 220us/step - loss: 0.5158 - acc: 0.6509\n",
      "Epoch 41/120\n",
      "928/928 [==============================] - 0s 228us/step - loss: 0.5154 - acc: 0.6509\n",
      "Epoch 42/120\n",
      "928/928 [==============================] - 0s 230us/step - loss: 0.5154 - acc: 0.6509\n",
      "Epoch 43/120\n",
      "928/928 [==============================] - 0s 217us/step - loss: 0.5155 - acc: 0.6509\n",
      "Epoch 44/120\n",
      "928/928 [==============================] - 0s 219us/step - loss: 0.5156 - acc: 0.6509\n",
      "Epoch 45/120\n",
      "928/928 [==============================] - 0s 212us/step - loss: 0.5155 - acc: 0.6509\n",
      "Epoch 46/120\n",
      "928/928 [==============================] - 0s 226us/step - loss: 0.5157 - acc: 0.6509\n",
      "Epoch 47/120\n",
      "928/928 [==============================] - 0s 219us/step - loss: 0.5156 - acc: 0.6509\n",
      "Epoch 48/120\n",
      "928/928 [==============================] - 0s 206us/step - loss: 0.5155 - acc: 0.6509\n",
      "Epoch 49/120\n",
      "928/928 [==============================] - 0s 216us/step - loss: 0.5154 - acc: 0.6509\n",
      "Epoch 50/120\n",
      "928/928 [==============================] - 0s 216us/step - loss: 0.5154 - acc: 0.6509\n",
      "Epoch 51/120\n",
      "928/928 [==============================] - 0s 216us/step - loss: 0.5154 - acc: 0.6509\n",
      "Epoch 52/120\n",
      "928/928 [==============================] - 0s 211us/step - loss: 0.5157 - acc: 0.6509\n",
      "Epoch 53/120\n",
      "928/928 [==============================] - 0s 214us/step - loss: 0.5157 - acc: 0.6509\n",
      "Epoch 54/120\n",
      "928/928 [==============================] - 0s 217us/step - loss: 0.5154 - acc: 0.6509\n",
      "Epoch 55/120\n",
      "928/928 [==============================] - 0s 234us/step - loss: 0.5159 - acc: 0.6509\n",
      "Epoch 56/120\n",
      "928/928 [==============================] - 0s 215us/step - loss: 0.5155 - acc: 0.6509\n",
      "Epoch 57/120\n",
      "928/928 [==============================] - 0s 218us/step - loss: 0.5160 - acc: 0.6509\n",
      "Epoch 58/120\n",
      "928/928 [==============================] - 0s 214us/step - loss: 0.5157 - acc: 0.6509\n",
      "Epoch 59/120\n",
      "928/928 [==============================] - 0s 228us/step - loss: 0.5156 - acc: 0.6509\n",
      "Epoch 60/120\n",
      "928/928 [==============================] - 0s 217us/step - loss: 0.5156 - acc: 0.6509\n",
      "Epoch 61/120\n",
      "928/928 [==============================] - 0s 233us/step - loss: 0.5155 - acc: 0.6509\n",
      "Epoch 62/120\n",
      "928/928 [==============================] - 0s 216us/step - loss: 0.5154 - acc: 0.6509\n",
      "Epoch 63/120\n",
      "928/928 [==============================] - 0s 216us/step - loss: 0.5153 - acc: 0.6509\n",
      "Epoch 64/120\n",
      "928/928 [==============================] - 0s 212us/step - loss: 0.5155 - acc: 0.6509\n",
      "Epoch 65/120\n",
      "928/928 [==============================] - 0s 214us/step - loss: 0.5154 - acc: 0.6509\n",
      "Epoch 66/120\n",
      "928/928 [==============================] - 0s 221us/step - loss: 0.5153 - acc: 0.6509\n",
      "Epoch 67/120\n",
      "928/928 [==============================] - 0s 205us/step - loss: 0.5152 - acc: 0.6509\n",
      "Epoch 68/120\n",
      "928/928 [==============================] - 0s 220us/step - loss: 0.5153 - acc: 0.6509\n",
      "Epoch 69/120\n",
      "928/928 [==============================] - 0s 219us/step - loss: 0.5154 - acc: 0.6509\n",
      "Epoch 70/120\n",
      "928/928 [==============================] - 0s 230us/step - loss: 0.5153 - acc: 0.6509\n",
      "Epoch 71/120\n",
      "928/928 [==============================] - 0s 217us/step - loss: 0.5153 - acc: 0.6509\n",
      "Epoch 72/120\n",
      "928/928 [==============================] - 0s 276us/step - loss: 0.5153 - acc: 0.6509\n",
      "Epoch 73/120\n",
      "928/928 [==============================] - 0s 232us/step - loss: 0.5153 - acc: 0.6509\n",
      "Epoch 74/120\n",
      "928/928 [==============================] - 0s 221us/step - loss: 0.5154 - acc: 0.6509\n",
      "Epoch 75/120\n",
      "928/928 [==============================] - 0s 230us/step - loss: 0.5154 - acc: 0.6509\n",
      "Epoch 76/120\n",
      "928/928 [==============================] - 0s 212us/step - loss: 0.5153 - acc: 0.6509\n",
      "Epoch 77/120\n",
      "928/928 [==============================] - 0s 237us/step - loss: 0.5153 - acc: 0.6509\n",
      "Epoch 78/120\n",
      "928/928 [==============================] - 0s 209us/step - loss: 0.5153 - acc: 0.6509\n",
      "Epoch 79/120\n",
      "928/928 [==============================] - 0s 214us/step - loss: 0.5153 - acc: 0.6509\n",
      "Epoch 80/120\n",
      "928/928 [==============================] - 0s 214us/step - loss: 0.5155 - acc: 0.6509\n",
      "Epoch 81/120\n",
      "928/928 [==============================] - 0s 213us/step - loss: 0.5154 - acc: 0.6509\n",
      "Epoch 82/120\n",
      "928/928 [==============================] - 0s 220us/step - loss: 0.5153 - acc: 0.6509\n",
      "Epoch 83/120\n"
     ]
    },
    {
     "name": "stdout",
     "output_type": "stream",
     "text": [
      "928/928 [==============================] - 0s 215us/step - loss: 0.5153 - acc: 0.6509\n",
      "Epoch 84/120\n",
      "928/928 [==============================] - 0s 214us/step - loss: 0.5152 - acc: 0.6509\n",
      "Epoch 85/120\n",
      "928/928 [==============================] - 0s 214us/step - loss: 0.5156 - acc: 0.6509\n",
      "Epoch 86/120\n",
      "928/928 [==============================] - 0s 203us/step - loss: 0.5154 - acc: 0.6509\n",
      "Epoch 87/120\n",
      "928/928 [==============================] - 0s 219us/step - loss: 0.5153 - acc: 0.6509\n",
      "Epoch 88/120\n",
      "928/928 [==============================] - 0s 216us/step - loss: 0.5152 - acc: 0.6509\n",
      "Epoch 89/120\n",
      "928/928 [==============================] - 0s 218us/step - loss: 0.5153 - acc: 0.6509\n",
      "Epoch 90/120\n",
      "928/928 [==============================] - 0s 214us/step - loss: 0.5154 - acc: 0.6509\n",
      "Epoch 91/120\n",
      "928/928 [==============================] - 0s 274us/step - loss: 0.5154 - acc: 0.6509\n",
      "Epoch 92/120\n",
      "928/928 [==============================] - 0s 214us/step - loss: 0.5154 - acc: 0.6509\n",
      "Epoch 93/120\n",
      "928/928 [==============================] - 0s 217us/step - loss: 0.5154 - acc: 0.6509\n",
      "Epoch 94/120\n",
      "928/928 [==============================] - 0s 206us/step - loss: 0.5153 - acc: 0.6509\n",
      "Epoch 95/120\n",
      "928/928 [==============================] - 0s 221us/step - loss: 0.5152 - acc: 0.6509\n",
      "Epoch 96/120\n",
      "928/928 [==============================] - 0s 206us/step - loss: 0.5153 - acc: 0.6509\n",
      "Epoch 97/120\n",
      "928/928 [==============================] - 0s 223us/step - loss: 0.5153 - acc: 0.6509\n",
      "Epoch 98/120\n",
      "928/928 [==============================] - 0s 216us/step - loss: 0.5152 - acc: 0.6509\n",
      "Epoch 99/120\n",
      "928/928 [==============================] - 0s 217us/step - loss: 0.5153 - acc: 0.6509\n",
      "Epoch 100/120\n",
      "928/928 [==============================] - 0s 216us/step - loss: 0.5152 - acc: 0.6509\n",
      "Epoch 101/120\n",
      "928/928 [==============================] - 0s 214us/step - loss: 0.5152 - acc: 0.6509\n",
      "Epoch 102/120\n",
      "928/928 [==============================] - 0s 210us/step - loss: 0.5152 - acc: 0.6509\n",
      "Epoch 103/120\n",
      "928/928 [==============================] - 0s 219us/step - loss: 0.5153 - acc: 0.6509\n",
      "Epoch 104/120\n",
      "928/928 [==============================] - 0s 216us/step - loss: 0.5153 - acc: 0.6509\n",
      "Epoch 105/120\n",
      "928/928 [==============================] - 0s 216us/step - loss: 0.5153 - acc: 0.6509\n",
      "Epoch 106/120\n",
      "928/928 [==============================] - 0s 215us/step - loss: 0.5152 - acc: 0.6509\n",
      "Epoch 107/120\n",
      "928/928 [==============================] - 0s 214us/step - loss: 0.5152 - acc: 0.6509\n",
      "Epoch 108/120\n",
      "928/928 [==============================] - 0s 218us/step - loss: 0.5154 - acc: 0.6509\n",
      "Epoch 109/120\n",
      "928/928 [==============================] - 0s 213us/step - loss: 0.5153 - acc: 0.6509\n",
      "Epoch 110/120\n",
      "928/928 [==============================] - 0s 210us/step - loss: 0.5155 - acc: 0.6509\n",
      "Epoch 111/120\n",
      "928/928 [==============================] - 0s 205us/step - loss: 0.5153 - acc: 0.6509\n",
      "Epoch 112/120\n",
      "928/928 [==============================] - 0s 200us/step - loss: 0.5153 - acc: 0.6509\n",
      "Epoch 113/120\n",
      "928/928 [==============================] - 0s 191us/step - loss: 0.5153 - acc: 0.6509\n",
      "Epoch 114/120\n",
      "928/928 [==============================] - 0s 192us/step - loss: 0.5153 - acc: 0.6509\n",
      "Epoch 115/120\n",
      "928/928 [==============================] - 0s 211us/step - loss: 0.5154 - acc: 0.6509\n",
      "Epoch 116/120\n",
      "928/928 [==============================] - 0s 190us/step - loss: 0.5153 - acc: 0.6509\n",
      "Epoch 117/120\n",
      "928/928 [==============================] - 0s 193us/step - loss: 0.5152 - acc: 0.6509 0s - loss: 0.5198 - acc: 0.65\n",
      "Epoch 118/120\n",
      "928/928 [==============================] - 0s 201us/step - loss: 0.5154 - acc: 0.6509\n",
      "Epoch 119/120\n",
      "928/928 [==============================] - 0s 202us/step - loss: 0.5156 - acc: 0.6509\n",
      "Epoch 120/120\n",
      "928/928 [==============================] - 0s 199us/step - loss: 0.5153 - acc: 0.6509\n"
     ]
    },
    {
     "data": {
      "text/plain": [
       "<keras.callbacks.callbacks.History at 0x1ff8055c9e8>"
      ]
     },
     "execution_count": 435,
     "metadata": {},
     "output_type": "execute_result"
    }
   ],
   "source": [
    "model.fit(\n",
    "    x_train, y_train, epochs=epochs, batch_size=batch_size\n",
    ")"
   ]
  },
  {
   "cell_type": "code",
   "execution_count": 436,
   "metadata": {},
   "outputs": [],
   "source": [
    "y_pred=model.predict(x_test)"
   ]
  },
  {
   "cell_type": "code",
   "execution_count": 437,
   "metadata": {
    "scrolled": true
   },
   "outputs": [
    {
     "name": "stdout",
     "output_type": "stream",
     "text": [
      "256/256 [==============================] - 0s 885us/step\n"
     ]
    }
   ],
   "source": [
    "accr = model.evaluate(x_test,y_test)\n"
   ]
  },
  {
   "cell_type": "code",
   "execution_count": 438,
   "metadata": {},
   "outputs": [
    {
     "data": {
      "text/plain": [
       "[0.6172815449535847, 0.609375]"
      ]
     },
     "execution_count": 438,
     "metadata": {},
     "output_type": "execute_result"
    }
   ],
   "source": [
    "accr"
   ]
  },
  {
   "cell_type": "markdown",
   "metadata": {},
   "source": [
    "As we can see, this neural network, for this purposes, is working better than the ML algorithm"
   ]
  }
 ],
 "metadata": {
  "kernelspec": {
   "display_name": "Python 3",
   "language": "python",
   "name": "python3"
  },
  "language_info": {
   "codemirror_mode": {
    "name": "ipython",
    "version": 3
   },
   "file_extension": ".py",
   "mimetype": "text/x-python",
   "name": "python",
   "nbconvert_exporter": "python",
   "pygments_lexer": "ipython3",
   "version": "3.7.3"
  }
 },
 "nbformat": 4,
 "nbformat_minor": 2
}
