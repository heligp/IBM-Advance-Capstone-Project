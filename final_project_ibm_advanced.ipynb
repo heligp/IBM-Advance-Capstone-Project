{
 "cells": [
  {
   "cell_type": "markdown",
   "metadata": {},
   "source": [
    "## BUSINESS PROBLEM"
   ]
  },
  {
   "cell_type": "markdown",
   "metadata": {},
   "source": [
    "For this project, an attempt will be made to forecast the prices of the SP500 ETF (symbol \"SPY\"), based on the latest price movements of this index plus the latest prices of the 5 most important stocks that make up this index (Amazon, Google, Facebook, Apple and Microsoft). This project is not intended to be a fully developed investment strategy, but rather to present a first approximation of the use of Machine Learning techniques for time series forecasting."
   ]
  },
  {
   "cell_type": "code",
   "execution_count": 1,
   "metadata": {},
   "outputs": [],
   "source": [
    "# General libraries\n",
    "import os\n",
    "import time\n",
    "import datetime\n",
    "import pandas as pd\n",
    "import math\n",
    "\n",
    "# For data import\n",
    "from alpha_vantage.timeseries import TimeSeries \n",
    "\n",
    "# For the FT\n",
    "from numpy.fft import fft\n",
    "import numpy as np\n",
    "\n",
    "# For ploting\n",
    "\n",
    "import matplotlib.pyplot as plt\n",
    "\n",
    "# For ApacheSpark use\n",
    "from pyspark import SparkContext, SparkConf\n",
    "from pyspark.sql import SQLContext, SparkSession\n",
    "from pyspark.sql.types import StructType, StructField, DoubleType, IntegerType, StringType\n"
   ]
  },
  {
   "cell_type": "markdown",
   "metadata": {},
   "source": [
    "## DATA ACQUISTION"
   ]
  },
  {
   "cell_type": "markdown",
   "metadata": {},
   "source": [
    "The data for this project will be acquired from www.alphavantage.com. In order to use its datasets, is it necessary to get its API KEY, which allows us to get the prices information of most of the US Stocks. Due to this free API KEY only allows us to make 5 calls per minute, we need to make a loop calling for 5 stock prices every 60 seconds. \n",
    "This cell will get the intraday price information for the symbols we need, in 1 minute intervals. With this type of organized information, we won't need to quatisized this Time Series. Here is an Example:"
   ]
  },
  {
   "cell_type": "code",
   "execution_count": 2,
   "metadata": {},
   "outputs": [],
   "source": [
    "keyID= '1J1ZO85W619SQ21V' \n",
    "ts = TimeSeries(keyID) #Object for data extraction\n",
    "price_df,meta=ts.get_intraday(symbol='SPY',interval='1min',outputsize='full')\n"
   ]
  },
  {
   "cell_type": "markdown",
   "metadata": {},
   "source": [
    "We just realize that the price information comes in a OHLCV (open, high, low, close, volume) format, which is a pretty common format for this type of stock data. For the purposes of of this project, we will use just the close column, which represents the price at the end of the minute.\n",
    "This data we also need it in a tabular way, so we will do it in the next cell."
   ]
  },
  {
   "cell_type": "code",
   "execution_count": 3,
   "metadata": {
    "scrolled": true
   },
   "outputs": [],
   "source": [
    "list_stocks = ['FB', 'GOOG','AMZN','MSFT','AAPL']\n",
    "prices_list=pd.DataFrame()\n",
    "for activo in list_stocks:\n",
    "    prices_dict,meta=ts.get_intraday(symbol=activo,interval='5min',outputsize='full')\n",
    "    prices_df=pd.DataFrame(prices_dict)    \n",
    "    prices_df=prices_df.transpose()\n",
    "    prices_df.columns=['open','high','low',activo,'volume']\n",
    "    price_list=prices_df[activo]\n",
    "\n",
    "#     if len(price_list)>len_list:\n",
    "        \n",
    "#     elif len(price_list)<len_list:\n",
    "#     elif len(price_list)==len_list:\n",
    "#         pass\n",
    "#     len_list=len(price_list)\n",
    "    prices_list= pd.concat([prices_list,price_list],axis=1,sort=True)\n",
    "    prices_list=prices_list.dropna()\n",
    "time.sleep(60) #This is because the API KEY let me make only 5 calls per minute.\n",
    "\n",
    "prices_dict,meta=ts.get_intraday(symbol='SPY',interval='5min',outputsize='full')\n",
    "prices_df=pd.DataFrame(prices_dict)    \n",
    "prices_df=prices_df.transpose()\n",
    "prices_df.columns=['open','high','low','SPY','volume']\n",
    "price_spyx=prices_df['SPY']\n",
    "\n",
    "\n",
    "\n",
    "prices_list= pd.concat([prices_list,price_spyx],axis=1,sort=True)\n",
    "prices_list=prices_list.dropna()\n",
    "prices_list=prices_list.astype(float)\n",
    "#prices_list=prices_list.round(decimals=2)\n",
    "    "
   ]
  },
  {
   "cell_type": "code",
   "execution_count": 4,
   "metadata": {},
   "outputs": [
    {
     "data": {
      "text/html": [
       "<div>\n",
       "<style scoped>\n",
       "    .dataframe tbody tr th:only-of-type {\n",
       "        vertical-align: middle;\n",
       "    }\n",
       "\n",
       "    .dataframe tbody tr th {\n",
       "        vertical-align: top;\n",
       "    }\n",
       "\n",
       "    .dataframe thead th {\n",
       "        text-align: right;\n",
       "    }\n",
       "</style>\n",
       "<table border=\"1\" class=\"dataframe\">\n",
       "  <thead>\n",
       "    <tr style=\"text-align: right;\">\n",
       "      <th></th>\n",
       "      <th>FB</th>\n",
       "      <th>GOOG</th>\n",
       "      <th>AMZN</th>\n",
       "      <th>MSFT</th>\n",
       "      <th>AAPL</th>\n",
       "      <th>SPY</th>\n",
       "    </tr>\n",
       "  </thead>\n",
       "  <tbody>\n",
       "    <tr>\n",
       "      <th>2020-04-30 09:35:00</th>\n",
       "      <td>205.410</td>\n",
       "      <td>1329.6801</td>\n",
       "      <td>2413.3271</td>\n",
       "      <td>178.6250</td>\n",
       "      <td>289.4450</td>\n",
       "      <td>290.6104</td>\n",
       "    </tr>\n",
       "    <tr>\n",
       "      <th>2020-04-30 09:40:00</th>\n",
       "      <td>204.685</td>\n",
       "      <td>1330.7900</td>\n",
       "      <td>2407.6775</td>\n",
       "      <td>178.0962</td>\n",
       "      <td>289.5250</td>\n",
       "      <td>290.2200</td>\n",
       "    </tr>\n",
       "    <tr>\n",
       "      <th>2020-04-30 09:45:00</th>\n",
       "      <td>204.895</td>\n",
       "      <td>1334.1700</td>\n",
       "      <td>2419.4600</td>\n",
       "      <td>178.0200</td>\n",
       "      <td>291.3100</td>\n",
       "      <td>290.1000</td>\n",
       "    </tr>\n",
       "    <tr>\n",
       "      <th>2020-04-30 09:50:00</th>\n",
       "      <td>207.474</td>\n",
       "      <td>1340.3149</td>\n",
       "      <td>2430.8301</td>\n",
       "      <td>178.9700</td>\n",
       "      <td>292.3800</td>\n",
       "      <td>290.2400</td>\n",
       "    </tr>\n",
       "    <tr>\n",
       "      <th>2020-04-30 09:55:00</th>\n",
       "      <td>208.070</td>\n",
       "      <td>1341.4990</td>\n",
       "      <td>2434.7600</td>\n",
       "      <td>179.2711</td>\n",
       "      <td>293.2332</td>\n",
       "      <td>290.8800</td>\n",
       "    </tr>\n",
       "  </tbody>\n",
       "</table>\n",
       "</div>"
      ],
      "text/plain": [
       "                          FB       GOOG       AMZN      MSFT      AAPL  \\\n",
       "2020-04-30 09:35:00  205.410  1329.6801  2413.3271  178.6250  289.4450   \n",
       "2020-04-30 09:40:00  204.685  1330.7900  2407.6775  178.0962  289.5250   \n",
       "2020-04-30 09:45:00  204.895  1334.1700  2419.4600  178.0200  291.3100   \n",
       "2020-04-30 09:50:00  207.474  1340.3149  2430.8301  178.9700  292.3800   \n",
       "2020-04-30 09:55:00  208.070  1341.4990  2434.7600  179.2711  293.2332   \n",
       "\n",
       "                          SPY  \n",
       "2020-04-30 09:35:00  290.6104  \n",
       "2020-04-30 09:40:00  290.2200  \n",
       "2020-04-30 09:45:00  290.1000  \n",
       "2020-04-30 09:50:00  290.2400  \n",
       "2020-04-30 09:55:00  290.8800  "
      ]
     },
     "execution_count": 4,
     "metadata": {},
     "output_type": "execute_result"
    }
   ],
   "source": [
    "prices_list.head()"
   ]
  },
  {
   "cell_type": "code",
   "execution_count": 63,
   "metadata": {},
   "outputs": [
    {
     "data": {
      "image/png": "[encoded data removed]",
      "text/plain": [
       "<Figure size 1440x648 with 1 Axes>"
      ]
     },
     "metadata": {
      "needs_background": "light"
     },
     "output_type": "display_data"
    }
   ],
   "source": [
    "plt.figure(figsize=(20,9))\n",
    "plt.plot(price_spyx)\n",
    "plt.show()"
   ]
  },
  {
   "cell_type": "markdown",
   "metadata": {},
   "source": [
    "This is the first data exploration and, as we can see is very noisy, so we need to normalize and process it first"
   ]
  },
  {
   "cell_type": "markdown",
   "metadata": {},
   "source": [
    "## ETL"
   ]
  },
  {
   "cell_type": "markdown",
   "metadata": {},
   "source": [
    "As the data extracted is already quantisized, I will just compute the returns of the prices. It means to divide the close price from one minute by the close price from the minute before."
   ]
  },
  {
   "cell_type": "markdown",
   "metadata": {},
   "source": [
    "### Returns computation"
   ]
  },
  {
   "cell_type": "code",
   "execution_count": 5,
   "metadata": {},
   "outputs": [],
   "source": [
    "prices_returns=prices_list.pct_change()"
   ]
  },
  {
   "cell_type": "code",
   "execution_count": 6,
   "metadata": {},
   "outputs": [
    {
     "data": {
      "text/html": [
       "<div>\n",
       "<style scoped>\n",
       "    .dataframe tbody tr th:only-of-type {\n",
       "        vertical-align: middle;\n",
       "    }\n",
       "\n",
       "    .dataframe tbody tr th {\n",
       "        vertical-align: top;\n",
       "    }\n",
       "\n",
       "    .dataframe thead th {\n",
       "        text-align: right;\n",
       "    }\n",
       "</style>\n",
       "<table border=\"1\" class=\"dataframe\">\n",
       "  <thead>\n",
       "    <tr style=\"text-align: right;\">\n",
       "      <th></th>\n",
       "      <th>FB</th>\n",
       "      <th>GOOG</th>\n",
       "      <th>AMZN</th>\n",
       "      <th>MSFT</th>\n",
       "      <th>AAPL</th>\n",
       "      <th>SPY</th>\n",
       "    </tr>\n",
       "  </thead>\n",
       "  <tbody>\n",
       "    <tr>\n",
       "      <th>2020-04-30 09:35:00</th>\n",
       "      <td>NaN</td>\n",
       "      <td>NaN</td>\n",
       "      <td>NaN</td>\n",
       "      <td>NaN</td>\n",
       "      <td>NaN</td>\n",
       "      <td>NaN</td>\n",
       "    </tr>\n",
       "    <tr>\n",
       "      <th>2020-04-30 09:40:00</th>\n",
       "      <td>-0.003530</td>\n",
       "      <td>0.000835</td>\n",
       "      <td>-0.002341</td>\n",
       "      <td>-0.002960</td>\n",
       "      <td>0.000276</td>\n",
       "      <td>-0.001343</td>\n",
       "    </tr>\n",
       "    <tr>\n",
       "      <th>2020-04-30 09:45:00</th>\n",
       "      <td>0.001026</td>\n",
       "      <td>0.002540</td>\n",
       "      <td>0.004894</td>\n",
       "      <td>-0.000428</td>\n",
       "      <td>0.006165</td>\n",
       "      <td>-0.000413</td>\n",
       "    </tr>\n",
       "    <tr>\n",
       "      <th>2020-04-30 09:50:00</th>\n",
       "      <td>0.012587</td>\n",
       "      <td>0.004606</td>\n",
       "      <td>0.004699</td>\n",
       "      <td>0.005336</td>\n",
       "      <td>0.003673</td>\n",
       "      <td>0.000483</td>\n",
       "    </tr>\n",
       "    <tr>\n",
       "      <th>2020-04-30 09:55:00</th>\n",
       "      <td>0.002873</td>\n",
       "      <td>0.000883</td>\n",
       "      <td>0.001617</td>\n",
       "      <td>0.001682</td>\n",
       "      <td>0.002918</td>\n",
       "      <td>0.002205</td>\n",
       "    </tr>\n",
       "  </tbody>\n",
       "</table>\n",
       "</div>"
      ],
      "text/plain": [
       "                           FB      GOOG      AMZN      MSFT      AAPL  \\\n",
       "2020-04-30 09:35:00       NaN       NaN       NaN       NaN       NaN   \n",
       "2020-04-30 09:40:00 -0.003530  0.000835 -0.002341 -0.002960  0.000276   \n",
       "2020-04-30 09:45:00  0.001026  0.002540  0.004894 -0.000428  0.006165   \n",
       "2020-04-30 09:50:00  0.012587  0.004606  0.004699  0.005336  0.003673   \n",
       "2020-04-30 09:55:00  0.002873  0.000883  0.001617  0.001682  0.002918   \n",
       "\n",
       "                          SPY  \n",
       "2020-04-30 09:35:00       NaN  \n",
       "2020-04-30 09:40:00 -0.001343  \n",
       "2020-04-30 09:45:00 -0.000413  \n",
       "2020-04-30 09:50:00  0.000483  \n",
       "2020-04-30 09:55:00  0.002205  "
      ]
     },
     "execution_count": 6,
     "metadata": {},
     "output_type": "execute_result"
    }
   ],
   "source": [
    "prices_returns.head()"
   ]
  },
  {
   "cell_type": "code",
   "execution_count": 7,
   "metadata": {},
   "outputs": [
    {
     "data": {
      "image/png": "[encoded data removed]",
      "text/plain": [
       "<Figure size 432x288 with 1 Axes>"
      ]
     },
     "metadata": {
      "needs_background": "light"
     },
     "output_type": "display_data"
    }
   ],
   "source": [
    "plt.plot(prices_returns)\n",
    "plt.show()"
   ]
  },
  {
   "cell_type": "markdown",
   "metadata": {},
   "source": [
    "As we can see on the figure above, there is some stationarity on the data, except from some points, so with this we can go on because it will allows to make later statistical analysis"
   ]
  },
  {
   "cell_type": "markdown",
   "metadata": {},
   "source": [
    "Now we are going to discretize the points on the returns, assigning values from 0 for returns equal to 0, 1 for negative returns, and 2 for positive returns"
   ]
  },
  {
   "cell_type": "code",
   "execution_count": 8,
   "metadata": {},
   "outputs": [],
   "source": [
    "for i in prices_returns.columns:\n",
    "    for j in range(len(prices_returns[i])):\n",
    "        if prices_returns[i].iloc[j] >0:\n",
    "            prices_returns[i].iloc[j]=2\n",
    "        elif prices_returns[i].iloc[j]<0:\n",
    "            prices_returns[i].iloc[j]=1\n",
    "        else:\n",
    "            prices_returns[i].iloc[j]=0"
   ]
  },
  {
   "cell_type": "code",
   "execution_count": 9,
   "metadata": {},
   "outputs": [
    {
     "data": {
      "text/html": [
       "<div>\n",
       "<style scoped>\n",
       "    .dataframe tbody tr th:only-of-type {\n",
       "        vertical-align: middle;\n",
       "    }\n",
       "\n",
       "    .dataframe tbody tr th {\n",
       "        vertical-align: top;\n",
       "    }\n",
       "\n",
       "    .dataframe thead th {\n",
       "        text-align: right;\n",
       "    }\n",
       "</style>\n",
       "<table border=\"1\" class=\"dataframe\">\n",
       "  <thead>\n",
       "    <tr style=\"text-align: right;\">\n",
       "      <th></th>\n",
       "      <th>FB</th>\n",
       "      <th>GOOG</th>\n",
       "      <th>AMZN</th>\n",
       "      <th>MSFT</th>\n",
       "      <th>AAPL</th>\n",
       "      <th>SPY</th>\n",
       "    </tr>\n",
       "  </thead>\n",
       "  <tbody>\n",
       "    <tr>\n",
       "      <th>2020-04-30 09:35:00</th>\n",
       "      <td>0.0</td>\n",
       "      <td>0.0</td>\n",
       "      <td>0.0</td>\n",
       "      <td>0.0</td>\n",
       "      <td>0.0</td>\n",
       "      <td>0.0</td>\n",
       "    </tr>\n",
       "    <tr>\n",
       "      <th>2020-04-30 09:40:00</th>\n",
       "      <td>1.0</td>\n",
       "      <td>2.0</td>\n",
       "      <td>1.0</td>\n",
       "      <td>1.0</td>\n",
       "      <td>2.0</td>\n",
       "      <td>1.0</td>\n",
       "    </tr>\n",
       "    <tr>\n",
       "      <th>2020-04-30 09:45:00</th>\n",
       "      <td>2.0</td>\n",
       "      <td>2.0</td>\n",
       "      <td>2.0</td>\n",
       "      <td>1.0</td>\n",
       "      <td>2.0</td>\n",
       "      <td>1.0</td>\n",
       "    </tr>\n",
       "    <tr>\n",
       "      <th>2020-04-30 09:50:00</th>\n",
       "      <td>2.0</td>\n",
       "      <td>2.0</td>\n",
       "      <td>2.0</td>\n",
       "      <td>2.0</td>\n",
       "      <td>2.0</td>\n",
       "      <td>2.0</td>\n",
       "    </tr>\n",
       "    <tr>\n",
       "      <th>2020-04-30 09:55:00</th>\n",
       "      <td>2.0</td>\n",
       "      <td>2.0</td>\n",
       "      <td>2.0</td>\n",
       "      <td>2.0</td>\n",
       "      <td>2.0</td>\n",
       "      <td>2.0</td>\n",
       "    </tr>\n",
       "  </tbody>\n",
       "</table>\n",
       "</div>"
      ],
      "text/plain": [
       "                      FB  GOOG  AMZN  MSFT  AAPL  SPY\n",
       "2020-04-30 09:35:00  0.0   0.0   0.0   0.0   0.0  0.0\n",
       "2020-04-30 09:40:00  1.0   2.0   1.0   1.0   2.0  1.0\n",
       "2020-04-30 09:45:00  2.0   2.0   2.0   1.0   2.0  1.0\n",
       "2020-04-30 09:50:00  2.0   2.0   2.0   2.0   2.0  2.0\n",
       "2020-04-30 09:55:00  2.0   2.0   2.0   2.0   2.0  2.0"
      ]
     },
     "execution_count": 9,
     "metadata": {},
     "output_type": "execute_result"
    }
   ],
   "source": [
    "prices_returns.head()"
   ]
  },
  {
   "cell_type": "markdown",
   "metadata": {},
   "source": [
    "Then, as we will try to predict the returns of the 'SPY', it will be the 'label' input for later training. And as we want to know this returns for 1 timestep in the future, we are going to roll 1 timestep this feature"
   ]
  },
  {
   "cell_type": "code",
   "execution_count": 10,
   "metadata": {},
   "outputs": [],
   "source": [
    "price_spy=price_spyx.iloc[2:].astype('float')"
   ]
  },
  {
   "cell_type": "code",
   "execution_count": 11,
   "metadata": {},
   "outputs": [],
   "source": [
    "price_spy=price_spy.pct_change()"
   ]
  },
  {
   "cell_type": "markdown",
   "metadata": {},
   "source": [
    "Now we are going to discretize this label values, but for returns over the 0.1% or below -0.1%\n",
    "This is because we this model will be design for capital above 10k dollars , which 0.1% is equal to 10 dollars more than any trade-commission on any broker"
   ]
  },
  {
   "cell_type": "code",
   "execution_count": 12,
   "metadata": {},
   "outputs": [],
   "source": [
    "for j in range(len(price_spy)):\n",
    "    if price_spy.iloc[j] >=0.001:\n",
    "        price_spy.iloc[j]=2\n",
    "    elif price_spy.iloc[j]<=-0.001:\n",
    "        price_spy.iloc[j]=1\n",
    "    else:\n",
    "        price_spy.iloc[j]=0"
   ]
  },
  {
   "cell_type": "code",
   "execution_count": 13,
   "metadata": {},
   "outputs": [
    {
     "data": {
      "text/plain": [
       "2020-05-20 15:50:00    0.0\n",
       "2020-05-20 15:45:00    2.0\n",
       "2020-05-20 15:40:00    0.0\n",
       "2020-05-20 15:35:00    1.0\n",
       "2020-05-20 15:30:00    2.0\n",
       "Name: label, dtype: float64"
      ]
     },
     "execution_count": 13,
     "metadata": {},
     "output_type": "execute_result"
    }
   ],
   "source": [
    "price_spy.rename('label',inplace=True).head()"
   ]
  },
  {
   "cell_type": "code",
   "execution_count": 14,
   "metadata": {},
   "outputs": [],
   "source": [
    "prices_returns_slice=prices_returns.iloc[1:-1]"
   ]
  },
  {
   "cell_type": "code",
   "execution_count": 15,
   "metadata": {},
   "outputs": [],
   "source": [
    "prices_returns_final=pd.concat([prices_returns_slice,price_spy],axis=1,join='inner')"
   ]
  },
  {
   "cell_type": "code",
   "execution_count": 16,
   "metadata": {},
   "outputs": [
    {
     "data": {
      "text/html": [
       "<div>\n",
       "<style scoped>\n",
       "    .dataframe tbody tr th:only-of-type {\n",
       "        vertical-align: middle;\n",
       "    }\n",
       "\n",
       "    .dataframe tbody tr th {\n",
       "        vertical-align: top;\n",
       "    }\n",
       "\n",
       "    .dataframe thead th {\n",
       "        text-align: right;\n",
       "    }\n",
       "</style>\n",
       "<table border=\"1\" class=\"dataframe\">\n",
       "  <thead>\n",
       "    <tr style=\"text-align: right;\">\n",
       "      <th></th>\n",
       "      <th>FB</th>\n",
       "      <th>GOOG</th>\n",
       "      <th>AMZN</th>\n",
       "      <th>MSFT</th>\n",
       "      <th>AAPL</th>\n",
       "      <th>SPY</th>\n",
       "      <th>label</th>\n",
       "    </tr>\n",
       "  </thead>\n",
       "  <tbody>\n",
       "    <tr>\n",
       "      <th>2020-04-30 09:40:00</th>\n",
       "      <td>1.0</td>\n",
       "      <td>2.0</td>\n",
       "      <td>1.0</td>\n",
       "      <td>1.0</td>\n",
       "      <td>2.0</td>\n",
       "      <td>1.0</td>\n",
       "      <td>0.0</td>\n",
       "    </tr>\n",
       "    <tr>\n",
       "      <th>2020-04-30 09:45:00</th>\n",
       "      <td>2.0</td>\n",
       "      <td>2.0</td>\n",
       "      <td>2.0</td>\n",
       "      <td>1.0</td>\n",
       "      <td>2.0</td>\n",
       "      <td>1.0</td>\n",
       "      <td>0.0</td>\n",
       "    </tr>\n",
       "    <tr>\n",
       "      <th>2020-04-30 09:50:00</th>\n",
       "      <td>2.0</td>\n",
       "      <td>2.0</td>\n",
       "      <td>2.0</td>\n",
       "      <td>2.0</td>\n",
       "      <td>2.0</td>\n",
       "      <td>2.0</td>\n",
       "      <td>1.0</td>\n",
       "    </tr>\n",
       "    <tr>\n",
       "      <th>2020-04-30 09:55:00</th>\n",
       "      <td>2.0</td>\n",
       "      <td>2.0</td>\n",
       "      <td>2.0</td>\n",
       "      <td>2.0</td>\n",
       "      <td>2.0</td>\n",
       "      <td>2.0</td>\n",
       "      <td>1.0</td>\n",
       "    </tr>\n",
       "    <tr>\n",
       "      <th>2020-04-30 10:00:00</th>\n",
       "      <td>1.0</td>\n",
       "      <td>2.0</td>\n",
       "      <td>1.0</td>\n",
       "      <td>1.0</td>\n",
       "      <td>1.0</td>\n",
       "      <td>2.0</td>\n",
       "      <td>2.0</td>\n",
       "    </tr>\n",
       "  </tbody>\n",
       "</table>\n",
       "</div>"
      ],
      "text/plain": [
       "                      FB  GOOG  AMZN  MSFT  AAPL  SPY  label\n",
       "2020-04-30 09:40:00  1.0   2.0   1.0   1.0   2.0  1.0    0.0\n",
       "2020-04-30 09:45:00  2.0   2.0   2.0   1.0   2.0  1.0    0.0\n",
       "2020-04-30 09:50:00  2.0   2.0   2.0   2.0   2.0  2.0    1.0\n",
       "2020-04-30 09:55:00  2.0   2.0   2.0   2.0   2.0  2.0    1.0\n",
       "2020-04-30 10:00:00  1.0   2.0   1.0   1.0   1.0  2.0    2.0"
      ]
     },
     "execution_count": 16,
     "metadata": {},
     "output_type": "execute_result"
    }
   ],
   "source": [
    "prices_returns_final.head()"
   ]
  },
  {
   "cell_type": "markdown",
   "metadata": {},
   "source": [
    "So far, we made all the operations in a Pandas DataFrame, but now for ML purposes, we are going to made the next operations in a Apache Spark Dataset"
   ]
  },
  {
   "cell_type": "code",
   "execution_count": 17,
   "metadata": {},
   "outputs": [],
   "source": [
    "sc = SparkContext.getOrCreate(SparkConf().setMaster(\"local[*]\"))\n",
    "spark = SparkSession.builder.getOrCreate()"
   ]
  },
  {
   "cell_type": "code",
   "execution_count": 18,
   "metadata": {},
   "outputs": [],
   "source": [
    "prices_df=spark.createDataFrame(prices_returns_final)"
   ]
  },
  {
   "cell_type": "code",
   "execution_count": 19,
   "metadata": {},
   "outputs": [
    {
     "name": "stdout",
     "output_type": "stream",
     "text": [
      "+---+----+----+----+----+---+-----+\n",
      "| FB|GOOG|AMZN|MSFT|AAPL|SPY|label|\n",
      "+---+----+----+----+----+---+-----+\n",
      "|1.0| 2.0| 1.0| 1.0| 2.0|1.0|  0.0|\n",
      "|2.0| 2.0| 2.0| 1.0| 2.0|1.0|  0.0|\n",
      "|2.0| 2.0| 2.0| 2.0| 2.0|2.0|  1.0|\n",
      "|2.0| 2.0| 2.0| 2.0| 2.0|2.0|  1.0|\n",
      "|1.0| 2.0| 1.0| 1.0| 1.0|2.0|  2.0|\n",
      "+---+----+----+----+----+---+-----+\n",
      "only showing top 5 rows\n",
      "\n"
     ]
    }
   ],
   "source": [
    "prices_df.show(5)"
   ]
  },
  {
   "cell_type": "markdown",
   "metadata": {},
   "source": [
    "## MODEL DEFINITION, TRAINING, DEPLOYMENT AND EVALUATION"
   ]
  },
  {
   "cell_type": "markdown",
   "metadata": {},
   "source": [
    "We are going to use the RandomForestClassifier for this project, computing vectors from our \"x\" features and making a final pipeline for the processes"
   ]
  },
  {
   "cell_type": "code",
   "execution_count": 20,
   "metadata": {},
   "outputs": [],
   "source": [
    "from pyspark.ml.linalg import Vector\n",
    "from pyspark.ml.feature import VectorAssembler\n",
    "from pyspark.ml.feature import OneHotEncoder\n",
    "from pyspark.ml import Pipeline\n",
    "from pyspark.ml.classification import RandomForestClassifier\n",
    "input_columns=prices_df.schema.names[:-1]\n",
    "result_col=prices_df.schema.names[-1]\n",
    "\n",
    "df_train,df_test=prices_df.randomSplit([0.8,0.2])\n",
    "#encoder=OneHotEncoder(inputCol=\"label\",outputCol=\"labelVec\")\n",
    "vectorAssembler = VectorAssembler(inputCols=input_columns,outputCol=\"features\")\n",
    "rfc=RandomForestClassifier(numTrees=100)\n",
    "pipeline=Pipeline(stages=[vectorAssembler,rfc])\n",
    "model=pipeline.fit(df_train)\n"
   ]
  },
  {
   "cell_type": "code",
   "execution_count": 21,
   "metadata": {},
   "outputs": [],
   "source": [
    "prediction = model.transform(df_test)"
   ]
  },
  {
   "cell_type": "code",
   "execution_count": 22,
   "metadata": {},
   "outputs": [
    {
     "name": "stdout",
     "output_type": "stream",
     "text": [
      "+---+----+----+----+----+---+-----+--------------------+--------------------+--------------------+----------+\n",
      "| FB|GOOG|AMZN|MSFT|AAPL|SPY|label|            features|       rawPrediction|         probability|prediction|\n",
      "+---+----+----+----+----+---+-----+--------------------+--------------------+--------------------+----------+\n",
      "|1.0| 1.0| 1.0| 1.0| 1.0|1.0|  0.0|[1.0,1.0,1.0,1.0,...|[61.4001524138757...|[0.61400152413875...|       0.0|\n",
      "|1.0| 1.0| 1.0| 1.0| 1.0|1.0|  0.0|[1.0,1.0,1.0,1.0,...|[61.4001524138757...|[0.61400152413875...|       0.0|\n",
      "|1.0| 1.0| 1.0| 1.0| 1.0|1.0|  0.0|[1.0,1.0,1.0,1.0,...|[61.4001524138757...|[0.61400152413875...|       0.0|\n",
      "|1.0| 1.0| 1.0| 1.0| 1.0|1.0|  0.0|[1.0,1.0,1.0,1.0,...|[61.4001524138757...|[0.61400152413875...|       0.0|\n",
      "|1.0| 1.0| 1.0| 1.0| 1.0|1.0|  0.0|[1.0,1.0,1.0,1.0,...|[61.4001524138757...|[0.61400152413875...|       0.0|\n",
      "|1.0| 1.0| 1.0| 1.0| 1.0|1.0|  0.0|[1.0,1.0,1.0,1.0,...|[61.4001524138757...|[0.61400152413875...|       0.0|\n",
      "|1.0| 1.0| 1.0| 1.0| 1.0|1.0|  0.0|[1.0,1.0,1.0,1.0,...|[61.4001524138757...|[0.61400152413875...|       0.0|\n",
      "|1.0| 1.0| 1.0| 1.0| 1.0|1.0|  1.0|[1.0,1.0,1.0,1.0,...|[61.4001524138757...|[0.61400152413875...|       0.0|\n",
      "|1.0| 1.0| 1.0| 1.0| 1.0|1.0|  2.0|[1.0,1.0,1.0,1.0,...|[61.4001524138757...|[0.61400152413875...|       0.0|\n",
      "|1.0| 1.0| 1.0| 1.0| 2.0|1.0|  0.0|[1.0,1.0,1.0,1.0,...|[62.7706315872669...|[0.62770631587266...|       0.0|\n",
      "|1.0| 1.0| 1.0| 2.0| 1.0|1.0|  0.0|[1.0,1.0,1.0,2.0,...|[54.7501882659550...|[0.54750188265955...|       0.0|\n",
      "|1.0| 1.0| 1.0| 2.0| 1.0|1.0|  0.0|[1.0,1.0,1.0,2.0,...|[54.7501882659550...|[0.54750188265955...|       0.0|\n",
      "|1.0| 1.0| 1.0| 2.0| 1.0|1.0|  1.0|[1.0,1.0,1.0,2.0,...|[54.7501882659550...|[0.54750188265955...|       0.0|\n",
      "|1.0| 1.0| 1.0| 2.0| 2.0|2.0|  2.0|[1.0,1.0,1.0,2.0,...|[67.7963742048049...|[0.67796374204804...|       0.0|\n",
      "|1.0| 1.0| 2.0| 1.0| 1.0|1.0|  0.0|[1.0,1.0,2.0,1.0,...|[58.1353423641197...|[0.58135342364119...|       0.0|\n",
      "|1.0| 1.0| 2.0| 1.0| 1.0|1.0|  1.0|[1.0,1.0,2.0,1.0,...|[58.1353423641197...|[0.58135342364119...|       0.0|\n",
      "|1.0| 1.0| 2.0| 2.0| 1.0|1.0|  2.0|[1.0,1.0,2.0,2.0,...|[46.2377668105145...|[0.46237766810514...|       0.0|\n",
      "|1.0| 1.0| 2.0| 2.0| 2.0|1.0|  0.0|[1.0,1.0,2.0,2.0,...|[51.2363027054957...|[0.51236302705495...|       0.0|\n",
      "|1.0| 2.0| 1.0| 1.0| 0.0|2.0|  2.0|[1.0,2.0,1.0,1.0,...|[64.4258788796298...|[0.64425878879629...|       0.0|\n",
      "|1.0| 2.0| 1.0| 1.0| 1.0|1.0|  0.0|[1.0,2.0,1.0,1.0,...|[64.1117777728673...|[0.64111777772867...|       0.0|\n",
      "+---+----+----+----+----+---+-----+--------------------+--------------------+--------------------+----------+\n",
      "only showing top 20 rows\n",
      "\n"
     ]
    }
   ],
   "source": [
    "prediction.show()"
   ]
  },
  {
   "cell_type": "code",
   "execution_count": 23,
   "metadata": {},
   "outputs": [
    {
     "data": {
      "text/plain": [
       "0.6577777777777778"
      ]
     },
     "execution_count": 23,
     "metadata": {},
     "output_type": "execute_result"
    }
   ],
   "source": [
    "from pyspark.ml.evaluation import MulticlassClassificationEvaluator\n",
    "binEval = MulticlassClassificationEvaluator().setMetricName(\"accuracy\") .setPredictionCol(\"prediction\").setLabelCol(\"label\")\n",
    "    \n",
    "binEval.evaluate(prediction) "
   ]
  },
  {
   "cell_type": "markdown",
   "metadata": {},
   "source": [
    "This should be definitely improved! But for now we are going to move on"
   ]
  },
  {
   "cell_type": "markdown",
   "metadata": {},
   "source": [
    "Now we will also compute this algorithm using scikit-learn"
   ]
  },
  {
   "cell_type": "code",
   "execution_count": 24,
   "metadata": {},
   "outputs": [],
   "source": [
    "x=prices_returns_final[prices_returns_final.columns[:-1]]\n",
    "y=prices_returns_final[prices_returns_final.columns[-1]]"
   ]
  },
  {
   "cell_type": "code",
   "execution_count": 25,
   "metadata": {},
   "outputs": [],
   "source": [
    "from sklearn.model_selection import train_test_split\n",
    "\n",
    "x_train,x_test,y_train,y_test=train_test_split(x,y)"
   ]
  },
  {
   "cell_type": "code",
   "execution_count": 26,
   "metadata": {},
   "outputs": [
    {
     "data": {
      "text/plain": [
       "817"
      ]
     },
     "execution_count": 26,
     "metadata": {},
     "output_type": "execute_result"
    }
   ],
   "source": [
    "len(x_train\n",
    "   )"
   ]
  },
  {
   "cell_type": "code",
   "execution_count": 27,
   "metadata": {},
   "outputs": [],
   "source": [
    "from sklearn.ensemble import RandomForestClassifier\n",
    "\n",
    "rfc=RandomForestClassifier()\n",
    "skmodel=rfc.fit(x_train,y_train)\n"
   ]
  },
  {
   "cell_type": "code",
   "execution_count": 28,
   "metadata": {},
   "outputs": [],
   "source": [
    "prediction=skmodel.predict(x_test)"
   ]
  },
  {
   "cell_type": "code",
   "execution_count": 29,
   "metadata": {},
   "outputs": [
    {
     "data": {
      "text/plain": [
       "(array([0., 1., 2.]), array([260,  10,   3], dtype=int64))"
      ]
     },
     "execution_count": 29,
     "metadata": {},
     "output_type": "execute_result"
    }
   ],
   "source": [
    "np.unique(prediction, return_counts=True)"
   ]
  },
  {
   "cell_type": "code",
   "execution_count": 30,
   "metadata": {},
   "outputs": [
    {
     "data": {
      "text/plain": [
       "0.6227106227106227"
      ]
     },
     "execution_count": 30,
     "metadata": {},
     "output_type": "execute_result"
    }
   ],
   "source": [
    "from sklearn.metrics import accuracy_score\n",
    "accuracy_score(y_test,prediction)"
   ]
  },
  {
   "cell_type": "markdown",
   "metadata": {},
   "source": [
    "Almost the same accuracy"
   ]
  },
  {
   "cell_type": "markdown",
   "metadata": {},
   "source": [
    "Finally, we are going to make a Neural Network in order to compare both accuracies"
   ]
  },
  {
   "cell_type": "code",
   "execution_count": 31,
   "metadata": {
    "scrolled": true
   },
   "outputs": [
    {
     "name": "stderr",
     "output_type": "stream",
     "text": [
      "Using TensorFlow backend.\n"
     ]
    }
   ],
   "source": [
    "from keras.preprocessing import sequence"
   ]
  },
  {
   "cell_type": "code",
   "execution_count": 32,
   "metadata": {},
   "outputs": [],
   "source": [
    "from keras.layers import Dense\n",
    "from keras.layers import Input,LSTM,Embedding,SpatialDropout1D\n",
    "from keras.models import Model\n",
    "import h5py"
   ]
  },
  {
   "cell_type": "code",
   "execution_count": 33,
   "metadata": {},
   "outputs": [],
   "source": [
    "from keras.metrics import CategoricalAccuracy\n",
    "from keras import metrics\n",
    "from keras.models import Sequential"
   ]
  },
  {
   "cell_type": "code",
   "execution_count": 34,
   "metadata": {},
   "outputs": [],
   "source": [
    "batch_size=32\n",
    "timesteps=10\n",
    "epochs=120"
   ]
  },
  {
   "cell_type": "code",
   "execution_count": 36,
   "metadata": {},
   "outputs": [
    {
     "name": "stdout",
     "output_type": "stream",
     "text": [
      "Model: \"model_1\"\n",
      "_________________________________________________________________\n",
      "Layer (type)                 Output Shape              Param #   \n",
      "=================================================================\n",
      "input_1 (InputLayer)         (32, 10, 6)               0         \n",
      "_________________________________________________________________\n",
      "lstm_1 (LSTM)                (32, 10, 8)               480       \n",
      "_________________________________________________________________\n",
      "lstm_2 (LSTM)                (32, 10, 8)               544       \n",
      "_________________________________________________________________\n",
      "dense_1 (Dense)              (32, 10, 1)               9         \n",
      "=================================================================\n",
      "Total params: 1,033\n",
      "Trainable params: 1,033\n",
      "Non-trainable params: 0\n",
      "_________________________________________________________________\n"
     ]
    }
   ],
   "source": [
    "input_1_mae=Input(batch_shape=(batch_size,timesteps,len(prices_returns_final.columns)-1))\n",
    "lstm_1_mae=LSTM(8,stateful=True,return_sequences=True)(input_1_mae)\n",
    "lstm_2_mae=LSTM(8,stateful=True,return_sequences=True)(lstm_1_mae)\n",
    "\n",
    "output_1_mae=Dense(units=1)(lstm_2_mae)\n",
    "\n",
    "classifier_mae=Model(inputs=input_1_mae,outputs=output_1_mae)\n",
    "\n",
    "classifier_mae.compile(optimizer='adam',loss='mae')\n",
    "classifier_mae.summary()"
   ]
  },
  {
   "cell_type": "code",
   "execution_count": 37,
   "metadata": {},
   "outputs": [],
   "source": [
    "def get_train_length(dataset,batch_size,test_percent):\n",
    "    lenght=len(dataset)\n",
    "    lenght*= 1- test_percent\n",
    "    train_length_values=[]\n",
    "    for x in range(int(lenght)-100,int(lenght)):\n",
    "        modulo=x%batch_size\n",
    "        if (modulo==0):\n",
    "            train_length_values.append(x)\n",
    "            print(x)\n",
    "    return (max(train_length_values))\n"
   ]
  },
  {
   "cell_type": "code",
   "execution_count": 38,
   "metadata": {},
   "outputs": [
    {
     "name": "stdout",
     "output_type": "stream",
     "text": [
      "800\n",
      "832\n",
      "864\n",
      "864\n"
     ]
    }
   ],
   "source": [
    "length=get_train_length(prices_returns_final,batch_size,0.2)\n",
    "print(length)"
   ]
  },
  {
   "cell_type": "code",
   "execution_count": 39,
   "metadata": {},
   "outputs": [
    {
     "data": {
      "text/plain": [
       "(864, 7)"
      ]
     },
     "execution_count": 39,
     "metadata": {},
     "output_type": "execute_result"
    }
   ],
   "source": [
    "df_data_1_train=prices_returns_final[0:length]\n",
    "training_set=df_data_1_train.iloc[:].values\n",
    "training_set.shape"
   ]
  },
  {
   "cell_type": "code",
   "execution_count": 40,
   "metadata": {},
   "outputs": [
    {
     "data": {
      "text/plain": [
       "(864, 864)"
      ]
     },
     "execution_count": 40,
     "metadata": {},
     "output_type": "execute_result"
    }
   ],
   "source": [
    "x_train=[]\n",
    "y_train=[]\n",
    "\n",
    "for i in range(length):\n",
    "    x_train.append(training_set[i,:len(prices_returns_final.columns)-1])\n",
    "    y_train.append(training_set[i,-1])\n",
    "len(x_train),len(y_train)"
   ]
  },
  {
   "cell_type": "code",
   "execution_count": 41,
   "metadata": {},
   "outputs": [
    {
     "data": {
      "text/plain": [
       "((864, 1, 6), (864, 1, 1))"
      ]
     },
     "execution_count": 41,
     "metadata": {},
     "output_type": "execute_result"
    }
   ],
   "source": [
    "x_train,y_train=np.array(x_train),np.array(y_train)\n",
    "x_train=np.reshape(x_train,(x_train.shape[0],1,len(prices_returns_final.columns)-1))\n",
    "y_train=np.reshape(y_train,(y_train.shape[0],1,1))\n",
    "x_train.shape,y_train.shape"
   ]
  },
  {
   "cell_type": "code",
   "execution_count": 42,
   "metadata": {},
   "outputs": [],
   "source": [
    "lag=len(prices_returns_final)-length"
   ]
  },
  {
   "cell_type": "code",
   "execution_count": 43,
   "metadata": {},
   "outputs": [],
   "source": [
    "lag=int(lag/64)*64"
   ]
  },
  {
   "cell_type": "code",
   "execution_count": 44,
   "metadata": {},
   "outputs": [],
   "source": [
    "lag=256"
   ]
  },
  {
   "cell_type": "code",
   "execution_count": 45,
   "metadata": {},
   "outputs": [
    {
     "data": {
      "text/plain": [
       "(256, 7)"
      ]
     },
     "execution_count": 45,
     "metadata": {},
     "output_type": "execute_result"
    }
   ],
   "source": [
    "df_data_1_test=prices_returns_final[len(prices_returns_final)-lag:]\n",
    "testing_set=df_data_1_test.iloc[:].values\n",
    "testing_set.shape"
   ]
  },
  {
   "cell_type": "code",
   "execution_count": 46,
   "metadata": {},
   "outputs": [],
   "source": [
    "testing_value=testing_set[:,3]"
   ]
  },
  {
   "cell_type": "code",
   "execution_count": 47,
   "metadata": {},
   "outputs": [
    {
     "data": {
      "text/plain": [
       "(256, 256)"
      ]
     },
     "execution_count": 47,
     "metadata": {},
     "output_type": "execute_result"
    }
   ],
   "source": [
    "x_test=[]\n",
    "y_test=[]\n",
    "\n",
    "for i in range(lag):\n",
    "    x_test.append(testing_set[i,:len(prices_returns_final.columns)-1])\n",
    "    y_test.append(testing_set[i,-1])\n",
    "len(x_test),len(y_test)"
   ]
  },
  {
   "cell_type": "code",
   "execution_count": 48,
   "metadata": {},
   "outputs": [
    {
     "data": {
      "text/plain": [
       "((256, 1, 6), (256, 1, 1))"
      ]
     },
     "execution_count": 48,
     "metadata": {},
     "output_type": "execute_result"
    }
   ],
   "source": [
    "x_test,y_test=np.array(x_test),np.array(y_test)\n",
    "x_test=np.reshape(x_test,(x_test.shape[0],1,len(prices_returns_final.columns)-1))\n",
    "y_test=np.reshape(y_test,(y_test.shape[0],1,1))\n",
    "x_test.shape,y_test.shape"
   ]
  },
  {
   "cell_type": "code",
   "execution_count": 57,
   "metadata": {},
   "outputs": [],
   "source": [
    "epochs=60"
   ]
  },
  {
   "cell_type": "code",
   "execution_count": 50,
   "metadata": {},
   "outputs": [
    {
     "name": "stdout",
     "output_type": "stream",
     "text": [
      "Model: \"model_2\"\n",
      "_________________________________________________________________\n",
      "Layer (type)                 Output Shape              Param #   \n",
      "=================================================================\n",
      "input_2 (InputLayer)         (32, 1, 6)                0         \n",
      "_________________________________________________________________\n",
      "lstm_3 (LSTM)                (32, 1, 512)              1062912   \n",
      "_________________________________________________________________\n",
      "lstm_4 (LSTM)                (32, 1, 512)              2099200   \n",
      "_________________________________________________________________\n",
      "dense_2 (Dense)              (32, 1, 1)                513       \n",
      "=================================================================\n",
      "Total params: 3,162,625\n",
      "Trainable params: 3,162,625\n",
      "Non-trainable params: 0\n",
      "_________________________________________________________________\n"
     ]
    }
   ],
   "source": [
    "input_1_mae=Input(batch_shape=(batch_size,1,len(prices_returns_final.columns)-1))\n",
    "lstm_1_mae=LSTM(512,stateful=True,return_sequences=True)(input_1_mae)\n",
    "lstm_2_mae=LSTM(512,stateful=True,return_sequences=True)(lstm_1_mae)\n",
    "\n",
    "output_1_mae=Dense(units=1)(lstm_2_mae)\n",
    "\n",
    "classifier_mae=Model(inputs=input_1_mae,outputs=output_1_mae)\n",
    "\n",
    "classifier_mae.compile(optimizer='adam',loss='mae',metrics=['acc'])\n",
    "classifier_mae.summary()"
   ]
  },
  {
   "cell_type": "code",
   "execution_count": 51,
   "metadata": {},
   "outputs": [],
   "source": [
    "def lstmModel():\n",
    "    input_1_mae=Input(batch_shape=(batch_size,1,len(prices_returns_final.columns)-1))\n",
    "    lstm_1_mae=LSTM(128,stateful=True,return_sequences=True)(input_1_mae)\n",
    "    lstm_2_mae=LSTM(128,stateful=True,return_sequences=True)(lstm_1_mae)\n",
    "\n",
    "    output_1_mae=Dense(units=1)(lstm_2_mae)\n",
    "\n",
    "    classifier_mae=Model(inputs=input_1_mae,outputs=output_1_mae)\n",
    "\n",
    "    classifier_mae.compile(optimizer='adam',loss='mae',metrics=['acc'])\n",
    "    return classifier_mae"
   ]
  },
  {
   "cell_type": "code",
   "execution_count": 52,
   "metadata": {},
   "outputs": [],
   "source": [
    "model=lstmModel()"
   ]
  },
  {
   "cell_type": "code",
   "execution_count": 58,
   "metadata": {},
   "outputs": [
    {
     "name": "stdout",
     "output_type": "stream",
     "text": [
      "Epoch 1/60\n",
      "864/864 [==============================] - 0s 258us/step - loss: 0.5696 - acc: 0.6227\n",
      "Epoch 2/60\n",
      "864/864 [==============================] - 0s 338us/step - loss: 0.5696 - acc: 0.6227\n",
      "Epoch 3/60\n",
      "864/864 [==============================] - 0s 290us/step - loss: 0.5696 - acc: 0.6227\n",
      "Epoch 4/60\n",
      "864/864 [==============================] - 0s 294us/step - loss: 0.5697 - acc: 0.6227\n",
      "Epoch 5/60\n",
      "864/864 [==============================] - 0s 323us/step - loss: 0.5697 - acc: 0.6227\n",
      "Epoch 6/60\n",
      "864/864 [==============================] - 0s 309us/step - loss: 0.5697 - acc: 0.6227\n",
      "Epoch 7/60\n",
      "864/864 [==============================] - 0s 303us/step - loss: 0.5696 - acc: 0.6227\n",
      "Epoch 8/60\n",
      "864/864 [==============================] - 0s 302us/step - loss: 0.5696 - acc: 0.6227\n",
      "Epoch 9/60\n",
      "864/864 [==============================] - 0s 488us/step - loss: 0.5696 - acc: 0.6227\n",
      "Epoch 10/60\n",
      "864/864 [==============================] - 0s 294us/step - loss: 0.5696 - acc: 0.6227\n",
      "Epoch 11/60\n",
      "864/864 [==============================] - 0s 295us/step - loss: 0.5696 - acc: 0.6227\n",
      "Epoch 12/60\n",
      "864/864 [==============================] - 0s 305us/step - loss: 0.5696 - acc: 0.6227\n",
      "Epoch 13/60\n",
      "864/864 [==============================] - 0s 298us/step - loss: 0.5696 - acc: 0.6227\n",
      "Epoch 14/60\n",
      "864/864 [==============================] - 0s 294us/step - loss: 0.5696 - acc: 0.6227\n",
      "Epoch 15/60\n",
      "864/864 [==============================] - 0s 312us/step - loss: 0.5696 - acc: 0.6227\n",
      "Epoch 16/60\n",
      "864/864 [==============================] - 0s 388us/step - loss: 0.5696 - acc: 0.6227\n",
      "Epoch 17/60\n",
      "864/864 [==============================] - 0s 338us/step - loss: 0.5697 - acc: 0.6227\n",
      "Epoch 18/60\n",
      "864/864 [==============================] - 0s 255us/step - loss: 0.5696 - acc: 0.6227\n",
      "Epoch 19/60\n",
      "864/864 [==============================] - 0s 344us/step - loss: 0.5695 - acc: 0.6227\n",
      "Epoch 20/60\n",
      "864/864 [==============================] - 0s 269us/step - loss: 0.5696 - acc: 0.6227\n",
      "Epoch 21/60\n",
      "864/864 [==============================] - 0s 276us/step - loss: 0.5696 - acc: 0.6227\n",
      "Epoch 22/60\n",
      "864/864 [==============================] - 0s 284us/step - loss: 0.5697 - acc: 0.6227\n",
      "Epoch 23/60\n",
      "864/864 [==============================] - 0s 279us/step - loss: 0.5696 - acc: 0.6227 0s - loss: 0.5251 - acc: 0.65\n",
      "Epoch 24/60\n",
      "864/864 [==============================] - 0s 285us/step - loss: 0.5699 - acc: 0.6227\n",
      "Epoch 25/60\n",
      "864/864 [==============================] - 0s 305us/step - loss: 0.5696 - acc: 0.6227\n",
      "Epoch 26/60\n",
      "864/864 [==============================] - 0s 289us/step - loss: 0.5696 - acc: 0.6227\n",
      "Epoch 27/60\n",
      "864/864 [==============================] - 0s 285us/step - loss: 0.5696 - acc: 0.6227\n",
      "Epoch 28/60\n",
      "864/864 [==============================] - 0s 301us/step - loss: 0.5696 - acc: 0.6227\n",
      "Epoch 29/60\n",
      "864/864 [==============================] - 0s 286us/step - loss: 0.5696 - acc: 0.6227\n",
      "Epoch 30/60\n",
      "864/864 [==============================] - 0s 285us/step - loss: 0.5695 - acc: 0.6227\n",
      "Epoch 31/60\n",
      "864/864 [==============================] - 0s 309us/step - loss: 0.5695 - acc: 0.6227\n",
      "Epoch 32/60\n",
      "864/864 [==============================] - 0s 279us/step - loss: 0.5696 - acc: 0.6227\n",
      "Epoch 33/60\n",
      "864/864 [==============================] - 0s 297us/step - loss: 0.5696 - acc: 0.6227\n",
      "Epoch 34/60\n",
      "864/864 [==============================] - 0s 312us/step - loss: 0.5697 - acc: 0.6227\n",
      "Epoch 35/60\n",
      "864/864 [==============================] - 0s 312us/step - loss: 0.5696 - acc: 0.6227\n",
      "Epoch 36/60\n",
      "864/864 [==============================] - 0s 327us/step - loss: 0.5696 - acc: 0.6227\n",
      "Epoch 37/60\n",
      "864/864 [==============================] - 0s 327us/step - loss: 0.5696 - acc: 0.6227\n",
      "Epoch 38/60\n",
      "864/864 [==============================] - 0s 332us/step - loss: 0.5696 - acc: 0.6227\n",
      "Epoch 39/60\n",
      "864/864 [==============================] - 0s 308us/step - loss: 0.5696 - acc: 0.6227\n",
      "Epoch 40/60\n",
      "864/864 [==============================] - 0s 321us/step - loss: 0.5697 - acc: 0.6227\n",
      "Epoch 41/60\n",
      "864/864 [==============================] - 0s 292us/step - loss: 0.5696 - acc: 0.6227\n",
      "Epoch 42/60\n",
      "864/864 [==============================] - 0s 276us/step - loss: 0.5696 - acc: 0.6227\n",
      "Epoch 43/60\n",
      "864/864 [==============================] - 0s 320us/step - loss: 0.5695 - acc: 0.6227\n",
      "Epoch 44/60\n",
      "864/864 [==============================] - 0s 298us/step - loss: 0.5695 - acc: 0.6227\n",
      "Epoch 45/60\n",
      "864/864 [==============================] - 0s 310us/step - loss: 0.5696 - acc: 0.6227\n",
      "Epoch 46/60\n",
      "864/864 [==============================] - 0s 314us/step - loss: 0.5696 - acc: 0.6227\n",
      "Epoch 47/60\n",
      "864/864 [==============================] - 0s 300us/step - loss: 0.5695 - acc: 0.6227\n",
      "Epoch 48/60\n",
      "864/864 [==============================] - 0s 319us/step - loss: 0.5696 - acc: 0.6227\n",
      "Epoch 49/60\n",
      "864/864 [==============================] - 0s 319us/step - loss: 0.5696 - acc: 0.6227\n",
      "Epoch 50/60\n",
      "864/864 [==============================] - 0s 293us/step - loss: 0.5695 - acc: 0.6227\n",
      "Epoch 51/60\n",
      "864/864 [==============================] - 0s 292us/step - loss: 0.5695 - acc: 0.6227\n",
      "Epoch 52/60\n",
      "864/864 [==============================] - 0s 281us/step - loss: 0.5696 - acc: 0.6227\n",
      "Epoch 53/60\n",
      "864/864 [==============================] - 0s 309us/step - loss: 0.5695 - acc: 0.6227\n",
      "Epoch 54/60\n",
      "864/864 [==============================] - 0s 310us/step - loss: 0.5696 - acc: 0.6227\n",
      "Epoch 55/60\n",
      "864/864 [==============================] - 0s 314us/step - loss: 0.5696 - acc: 0.6227\n",
      "Epoch 56/60\n",
      "864/864 [==============================] - 0s 360us/step - loss: 0.5696 - acc: 0.6227\n",
      "Epoch 57/60\n",
      "864/864 [==============================] - 0s 311us/step - loss: 0.5696 - acc: 0.6227\n",
      "Epoch 58/60\n",
      "864/864 [==============================] - 0s 297us/step - loss: 0.5695 - acc: 0.6227\n",
      "Epoch 59/60\n",
      "864/864 [==============================] - 0s 240us/step - loss: 0.5696 - acc: 0.6227\n",
      "Epoch 60/60\n",
      "864/864 [==============================] - 0s 225us/step - loss: 0.5697 - acc: 0.6227\n"
     ]
    },
    {
     "data": {
      "text/plain": [
       "<keras.callbacks.callbacks.History at 0x2beee520ac8>"
      ]
     },
     "execution_count": 58,
     "metadata": {},
     "output_type": "execute_result"
    }
   ],
   "source": [
    "model.fit(\n",
    "    x_train, y_train, epochs=epochs, batch_size=batch_size\n",
    ")"
   ]
  },
  {
   "cell_type": "code",
   "execution_count": 54,
   "metadata": {},
   "outputs": [],
   "source": [
    "y_pred=model.predict(x_test)"
   ]
  },
  {
   "cell_type": "code",
   "execution_count": 55,
   "metadata": {
    "scrolled": true
   },
   "outputs": [
    {
     "name": "stdout",
     "output_type": "stream",
     "text": [
      "256/256 [==============================] - 0s 536us/step\n"
     ]
    }
   ],
   "source": [
    "accr = model.evaluate(x_test,y_test)\n"
   ]
  },
  {
   "cell_type": "code",
   "execution_count": 56,
   "metadata": {},
   "outputs": [
    {
     "data": {
      "text/plain": [
       "[0.5002746321260929, 0.65625]"
      ]
     },
     "execution_count": 56,
     "metadata": {},
     "output_type": "execute_result"
    }
   ],
   "source": [
    "accr"
   ]
  },
  {
   "cell_type": "markdown",
   "metadata": {},
   "source": [
    "As we can see, this neural network, for this purposes, is working better than the ML algorithm"
   ]
  }
 ],
 "metadata": {
  "kernelspec": {
   "display_name": "Python 3",
   "language": "python",
   "name": "python3"
  },
  "language_info": {
   "codemirror_mode": {
    "name": "ipython",
    "version": 3
   },
   "file_extension": ".py",
   "mimetype": "text/x-python",
   "name": "python",
   "nbconvert_exporter": "python",
   "pygments_lexer": "ipython3",
   "version": "3.7.3"
  }
 },
 "nbformat": 4,
 "nbformat_minor": 2
}
